{
 "cells": [
  {
   "cell_type": "markdown",
   "id": "6315eb57",
   "metadata": {},
   "source": [
    "# Logistic Regression\n",
    "By Josh Houlding\n",
    "\n",
    "It is important to have experience implementing one of the most common applications of regression currently used in business, finance, and healthcare. Questions like should a loan be approved, is a driver entitled a discount, and will a patient survive are all answered with a form of logistic regression (i.e., with a Yes/No answer).\n",
    "\n",
    "Using a dataset representing applications for a bank loan, the task will be to build a logistic regression model that can predict whether or not a loan will be approved.\n",
    "\n",
    "<b>Assignment Instructions:</b> <a href=\"https://halo.gcu.edu/courses/DSC-520-O500-20240125#assignment-submission/810cad63-ea85-4f43-9850-32f21dfc0772\">https://halo.gcu.edu/courses/DSC-520-O500-20240125#assignment-submission/810cad63-ea85-4f43-9850-32f21dfc0772</a><br>\n",
    "<b>Dataset: </b><a href=\"https://www.kaggle.com/datasets/rikdifos/credit-card-approval-prediction\">Credit Card Approval Prediction | Kaggle</a>\n",
    "\n",
    "For this activity, perform the following:\n",
    "\n",
    "### Task 1\n",
    "Load the \"application_record.csv,\" located in the topic Resources, into a data frame and perform initial exploratory tasks:\n",
    "* Display representative portions of the data.<br>\n",
    "* Check for missing values and clean the data.<br>\n",
    "* Check for outliers and decide if and how to process them.<br>\n",
    "* Formally state what your model will predict using the variables in the data. <hr>\n",
    "\n",
    "<b>Display representative portions of the data.</b>"
   ]
  },
  {
   "cell_type": "code",
   "execution_count": 419,
   "id": "3dc6509a",
   "metadata": {},
   "outputs": [],
   "source": [
    "# Import basic libraries\n",
    "import pandas as pd\n",
    "import numpy as np\n",
    "import random\n",
    "\n",
    "# Import visualization libraries\n",
    "import matplotlib.pyplot as plt\n",
    "import seaborn as sns\n",
    "import scikitplot as skplt\n",
    "\n",
    "# Import modeling libraries\n",
    "from sklearn.model_selection import train_test_split\n",
    "import statsmodels.api as sm\n",
    "from sklearn.preprocessing import MinMaxScaler\n",
    "from sklearn.linear_model import LogisticRegression\n",
    "from sklearn.metrics import accuracy_score, precision_score, recall_score\n",
    "\n",
    "# Import encoding libraries\n",
    "from sklearn.preprocessing import LabelEncoder\n",
    "\n",
    "# Import diagnostic libraries\n",
    "from statsmodels.stats.outliers_influence import variance_inflation_factor"
   ]
  },
  {
   "cell_type": "code",
   "execution_count": 420,
   "id": "10adea42",
   "metadata": {
    "scrolled": true
   },
   "outputs": [
    {
     "name": "stdout",
     "output_type": "stream",
     "text": [
      "Total rows: 438557\n"
     ]
    },
    {
     "data": {
      "text/html": [
       "<div>\n",
       "<style scoped>\n",
       "    .dataframe tbody tr th:only-of-type {\n",
       "        vertical-align: middle;\n",
       "    }\n",
       "\n",
       "    .dataframe tbody tr th {\n",
       "        vertical-align: top;\n",
       "    }\n",
       "\n",
       "    .dataframe thead th {\n",
       "        text-align: right;\n",
       "    }\n",
       "</style>\n",
       "<table border=\"1\" class=\"dataframe\">\n",
       "  <thead>\n",
       "    <tr style=\"text-align: right;\">\n",
       "      <th></th>\n",
       "      <th>ID</th>\n",
       "      <th>CODE_GENDER</th>\n",
       "      <th>FLAG_OWN_CAR</th>\n",
       "      <th>FLAG_OWN_REALTY</th>\n",
       "      <th>CNT_CHILDREN</th>\n",
       "      <th>AMT_INCOME_TOTAL</th>\n",
       "      <th>NAME_INCOME_TYPE</th>\n",
       "      <th>NAME_EDUCATION_TYPE</th>\n",
       "      <th>NAME_FAMILY_STATUS</th>\n",
       "      <th>NAME_HOUSING_TYPE</th>\n",
       "      <th>DAYS_BIRTH</th>\n",
       "      <th>DAYS_EMPLOYED</th>\n",
       "      <th>FLAG_MOBIL</th>\n",
       "      <th>FLAG_WORK_PHONE</th>\n",
       "      <th>FLAG_PHONE</th>\n",
       "      <th>FLAG_EMAIL</th>\n",
       "      <th>OCCUPATION_TYPE</th>\n",
       "      <th>CNT_FAM_MEMBERS</th>\n",
       "    </tr>\n",
       "  </thead>\n",
       "  <tbody>\n",
       "    <tr>\n",
       "      <th>0</th>\n",
       "      <td>5008804</td>\n",
       "      <td>M</td>\n",
       "      <td>Y</td>\n",
       "      <td>Y</td>\n",
       "      <td>0</td>\n",
       "      <td>427500.0</td>\n",
       "      <td>Working</td>\n",
       "      <td>Higher education</td>\n",
       "      <td>Civil marriage</td>\n",
       "      <td>Rented apartment</td>\n",
       "      <td>-12005</td>\n",
       "      <td>-4542</td>\n",
       "      <td>1</td>\n",
       "      <td>1</td>\n",
       "      <td>0</td>\n",
       "      <td>0</td>\n",
       "      <td>NaN</td>\n",
       "      <td>2.0</td>\n",
       "    </tr>\n",
       "    <tr>\n",
       "      <th>1</th>\n",
       "      <td>5008805</td>\n",
       "      <td>M</td>\n",
       "      <td>Y</td>\n",
       "      <td>Y</td>\n",
       "      <td>0</td>\n",
       "      <td>427500.0</td>\n",
       "      <td>Working</td>\n",
       "      <td>Higher education</td>\n",
       "      <td>Civil marriage</td>\n",
       "      <td>Rented apartment</td>\n",
       "      <td>-12005</td>\n",
       "      <td>-4542</td>\n",
       "      <td>1</td>\n",
       "      <td>1</td>\n",
       "      <td>0</td>\n",
       "      <td>0</td>\n",
       "      <td>NaN</td>\n",
       "      <td>2.0</td>\n",
       "    </tr>\n",
       "    <tr>\n",
       "      <th>2</th>\n",
       "      <td>5008806</td>\n",
       "      <td>M</td>\n",
       "      <td>Y</td>\n",
       "      <td>Y</td>\n",
       "      <td>0</td>\n",
       "      <td>112500.0</td>\n",
       "      <td>Working</td>\n",
       "      <td>Secondary / secondary special</td>\n",
       "      <td>Married</td>\n",
       "      <td>House / apartment</td>\n",
       "      <td>-21474</td>\n",
       "      <td>-1134</td>\n",
       "      <td>1</td>\n",
       "      <td>0</td>\n",
       "      <td>0</td>\n",
       "      <td>0</td>\n",
       "      <td>Security staff</td>\n",
       "      <td>2.0</td>\n",
       "    </tr>\n",
       "    <tr>\n",
       "      <th>3</th>\n",
       "      <td>5008808</td>\n",
       "      <td>F</td>\n",
       "      <td>N</td>\n",
       "      <td>Y</td>\n",
       "      <td>0</td>\n",
       "      <td>270000.0</td>\n",
       "      <td>Commercial associate</td>\n",
       "      <td>Secondary / secondary special</td>\n",
       "      <td>Single / not married</td>\n",
       "      <td>House / apartment</td>\n",
       "      <td>-19110</td>\n",
       "      <td>-3051</td>\n",
       "      <td>1</td>\n",
       "      <td>0</td>\n",
       "      <td>1</td>\n",
       "      <td>1</td>\n",
       "      <td>Sales staff</td>\n",
       "      <td>1.0</td>\n",
       "    </tr>\n",
       "    <tr>\n",
       "      <th>4</th>\n",
       "      <td>5008809</td>\n",
       "      <td>F</td>\n",
       "      <td>N</td>\n",
       "      <td>Y</td>\n",
       "      <td>0</td>\n",
       "      <td>270000.0</td>\n",
       "      <td>Commercial associate</td>\n",
       "      <td>Secondary / secondary special</td>\n",
       "      <td>Single / not married</td>\n",
       "      <td>House / apartment</td>\n",
       "      <td>-19110</td>\n",
       "      <td>-3051</td>\n",
       "      <td>1</td>\n",
       "      <td>0</td>\n",
       "      <td>1</td>\n",
       "      <td>1</td>\n",
       "      <td>Sales staff</td>\n",
       "      <td>1.0</td>\n",
       "    </tr>\n",
       "  </tbody>\n",
       "</table>\n",
       "</div>"
      ],
      "text/plain": [
       "        ID CODE_GENDER FLAG_OWN_CAR FLAG_OWN_REALTY  CNT_CHILDREN  \\\n",
       "0  5008804           M            Y               Y             0   \n",
       "1  5008805           M            Y               Y             0   \n",
       "2  5008806           M            Y               Y             0   \n",
       "3  5008808           F            N               Y             0   \n",
       "4  5008809           F            N               Y             0   \n",
       "\n",
       "   AMT_INCOME_TOTAL      NAME_INCOME_TYPE            NAME_EDUCATION_TYPE  \\\n",
       "0          427500.0               Working               Higher education   \n",
       "1          427500.0               Working               Higher education   \n",
       "2          112500.0               Working  Secondary / secondary special   \n",
       "3          270000.0  Commercial associate  Secondary / secondary special   \n",
       "4          270000.0  Commercial associate  Secondary / secondary special   \n",
       "\n",
       "     NAME_FAMILY_STATUS  NAME_HOUSING_TYPE  DAYS_BIRTH  DAYS_EMPLOYED  \\\n",
       "0        Civil marriage   Rented apartment      -12005          -4542   \n",
       "1        Civil marriage   Rented apartment      -12005          -4542   \n",
       "2               Married  House / apartment      -21474          -1134   \n",
       "3  Single / not married  House / apartment      -19110          -3051   \n",
       "4  Single / not married  House / apartment      -19110          -3051   \n",
       "\n",
       "   FLAG_MOBIL  FLAG_WORK_PHONE  FLAG_PHONE  FLAG_EMAIL OCCUPATION_TYPE  \\\n",
       "0           1                1           0           0             NaN   \n",
       "1           1                1           0           0             NaN   \n",
       "2           1                0           0           0  Security staff   \n",
       "3           1                0           1           1     Sales staff   \n",
       "4           1                0           1           1     Sales staff   \n",
       "\n",
       "   CNT_FAM_MEMBERS  \n",
       "0              2.0  \n",
       "1              2.0  \n",
       "2              2.0  \n",
       "3              1.0  \n",
       "4              1.0  "
      ]
     },
     "execution_count": 420,
     "metadata": {},
     "output_type": "execute_result"
    }
   ],
   "source": [
    "# Load and view data\n",
    "df = pd.read_csv(\"application_record.csv\")\n",
    "print(f\"Total rows: {len(df)}\")\n",
    "df.head()"
   ]
  },
  {
   "cell_type": "code",
   "execution_count": 421,
   "id": "a887a7ec",
   "metadata": {},
   "outputs": [],
   "source": [
    "# Rename columns\n",
    "new_column_mapping = {\"ID\": \"id\", \"CODE_GENDER\": \"gender\", \"FLAG_OWN_CAR\": \"owns_car\", \"FLAG_OWN_REALTY\": \"owns_realty\", \n",
    "                      \"CNT_CHILDREN\": \"children\", \"AMT_INCOME_TOTAL\": \"income\", \"NAME_INCOME_TYPE\": \"income_type\", \n",
    "                      \"NAME_EDUCATION_TYPE\": \"education_type\", \"NAME_FAMILY_STATUS\": \"family_status\",\n",
    "                      \"NAME_HOUSING_TYPE\": \"housing_type\", \"DAYS_BIRTH\": \"age_in_days\", \"DAYS_EMPLOYED\": \"days_employed\",\n",
    "                      \"FLAG_MOBIL\": \"has_mobile_phone\", \"FLAG_WORK_PHONE\": \"has_work_phone\", \"FLAG_PHONE\": \"has_phone\",\n",
    "                      \"FLAG_EMAIL\": \"has_email\", \"OCCUPATION_TYPE\": \"occupation_type\", \"CNT_FAM_MEMBERS\": \"family_size\"}\n",
    "\n",
    "df.rename(columns=new_column_mapping, inplace=True)\n",
    "\n",
    "# Convert \"id\" to int\n",
    "df[\"id\"] = df[\"id\"].astype(int)\n",
    "\n",
    "# Convert \"age_in_days\" to positive values\n",
    "df[\"age_in_days\"] = df[\"age_in_days\"].abs()\n",
    "\n",
    "# Invert values of \"days_employed\"\n",
    "df[\"days_employed\"] = df[\"days_employed\"] * -1"
   ]
  },
  {
   "cell_type": "code",
   "execution_count": 422,
   "id": "3dba9336",
   "metadata": {},
   "outputs": [],
   "source": [
    "# Load credit_record.csv\n",
    "credit_record = pd.read_csv(\"credit_record.csv\")"
   ]
  },
  {
   "cell_type": "code",
   "execution_count": 423,
   "id": "fc67fe4c",
   "metadata": {},
   "outputs": [
    {
     "data": {
      "text/html": [
       "<div>\n",
       "<style scoped>\n",
       "    .dataframe tbody tr th:only-of-type {\n",
       "        vertical-align: middle;\n",
       "    }\n",
       "\n",
       "    .dataframe tbody tr th {\n",
       "        vertical-align: top;\n",
       "    }\n",
       "\n",
       "    .dataframe thead th {\n",
       "        text-align: right;\n",
       "    }\n",
       "</style>\n",
       "<table border=\"1\" class=\"dataframe\">\n",
       "  <thead>\n",
       "    <tr style=\"text-align: right;\">\n",
       "      <th></th>\n",
       "      <th>id</th>\n",
       "      <th>months_balance</th>\n",
       "      <th>status</th>\n",
       "    </tr>\n",
       "  </thead>\n",
       "  <tbody>\n",
       "    <tr>\n",
       "      <th>0</th>\n",
       "      <td>5001711</td>\n",
       "      <td>0</td>\n",
       "      <td>X</td>\n",
       "    </tr>\n",
       "    <tr>\n",
       "      <th>1</th>\n",
       "      <td>5001711</td>\n",
       "      <td>-1</td>\n",
       "      <td>0</td>\n",
       "    </tr>\n",
       "    <tr>\n",
       "      <th>2</th>\n",
       "      <td>5001711</td>\n",
       "      <td>-2</td>\n",
       "      <td>0</td>\n",
       "    </tr>\n",
       "    <tr>\n",
       "      <th>3</th>\n",
       "      <td>5001711</td>\n",
       "      <td>-3</td>\n",
       "      <td>0</td>\n",
       "    </tr>\n",
       "    <tr>\n",
       "      <th>4</th>\n",
       "      <td>5001712</td>\n",
       "      <td>0</td>\n",
       "      <td>C</td>\n",
       "    </tr>\n",
       "  </tbody>\n",
       "</table>\n",
       "</div>"
      ],
      "text/plain": [
       "        id  months_balance status\n",
       "0  5001711               0      X\n",
       "1  5001711              -1      0\n",
       "2  5001711              -2      0\n",
       "3  5001711              -3      0\n",
       "4  5001712               0      C"
      ]
     },
     "execution_count": 423,
     "metadata": {},
     "output_type": "execute_result"
    }
   ],
   "source": [
    "# Rename columns\n",
    "new_column_mapping = {\"ID\": \"id\", \"MONTHS_BALANCE\": \"months_balance\", \"STATUS\": \"status\"}\n",
    "credit_record.rename(columns=new_column_mapping, inplace=True)\n",
    "credit_record.head()"
   ]
  },
  {
   "cell_type": "markdown",
   "id": "e52fe3a2",
   "metadata": {},
   "source": [
    "* `months_balance`: The month of the extracted data is the starting point, backwards, 0 is the current month, -1 is the previous month, and so on\n",
    "* `status`: 0: 1-29 days past due 1: 30-59 days past due 2: 60-89 days overdue 3: 90-119 days overdue 4: 120-149 days overdue 5: Overdue or bad debts, write-offs for more than 150 days C: paid off that month X: No loan for the month\n",
    "\n",
    "We see that there are several entries for each id, and if we are to join this dataframe of credit records with the original, we must only select the entries for the current month (`months_balance` = 0). "
   ]
  },
  {
   "cell_type": "code",
   "execution_count": 424,
   "id": "07a2bb22",
   "metadata": {
    "scrolled": true
   },
   "outputs": [
    {
     "data": {
      "text/html": [
       "<div>\n",
       "<style scoped>\n",
       "    .dataframe tbody tr th:only-of-type {\n",
       "        vertical-align: middle;\n",
       "    }\n",
       "\n",
       "    .dataframe tbody tr th {\n",
       "        vertical-align: top;\n",
       "    }\n",
       "\n",
       "    .dataframe thead th {\n",
       "        text-align: right;\n",
       "    }\n",
       "</style>\n",
       "<table border=\"1\" class=\"dataframe\">\n",
       "  <thead>\n",
       "    <tr style=\"text-align: right;\">\n",
       "      <th></th>\n",
       "      <th>id</th>\n",
       "      <th>months_balance</th>\n",
       "      <th>status</th>\n",
       "    </tr>\n",
       "  </thead>\n",
       "  <tbody>\n",
       "    <tr>\n",
       "      <th>0</th>\n",
       "      <td>5001711</td>\n",
       "      <td>0</td>\n",
       "      <td>X</td>\n",
       "    </tr>\n",
       "    <tr>\n",
       "      <th>4</th>\n",
       "      <td>5001712</td>\n",
       "      <td>0</td>\n",
       "      <td>C</td>\n",
       "    </tr>\n",
       "    <tr>\n",
       "      <th>23</th>\n",
       "      <td>5001713</td>\n",
       "      <td>0</td>\n",
       "      <td>X</td>\n",
       "    </tr>\n",
       "    <tr>\n",
       "      <th>45</th>\n",
       "      <td>5001714</td>\n",
       "      <td>0</td>\n",
       "      <td>X</td>\n",
       "    </tr>\n",
       "    <tr>\n",
       "      <th>60</th>\n",
       "      <td>5001715</td>\n",
       "      <td>0</td>\n",
       "      <td>X</td>\n",
       "    </tr>\n",
       "  </tbody>\n",
       "</table>\n",
       "</div>"
      ],
      "text/plain": [
       "         id  months_balance status\n",
       "0   5001711               0      X\n",
       "4   5001712               0      C\n",
       "23  5001713               0      X\n",
       "45  5001714               0      X\n",
       "60  5001715               0      X"
      ]
     },
     "execution_count": 424,
     "metadata": {},
     "output_type": "execute_result"
    }
   ],
   "source": [
    "# Filter credit_record down to only the current month\n",
    "credit_record = credit_record[credit_record[\"months_balance\"] == 0]\n",
    "credit_record.head()"
   ]
  },
  {
   "cell_type": "code",
   "execution_count": 425,
   "id": "fd1439b8",
   "metadata": {},
   "outputs": [
    {
     "name": "stdout",
     "output_type": "stream",
     "text": [
      "Total rows: 33856\n"
     ]
    }
   ],
   "source": [
    "# Find number of customers with current monthly status\n",
    "print(\"Total rows:\", len(credit_record[\"id\"].unique()))"
   ]
  },
  {
   "cell_type": "markdown",
   "id": "b34ef374",
   "metadata": {},
   "source": [
    "Now, we can join the `credit_record` dataframe with the original to get the `status` column, which we will use as the label in the model. Because there are substantially less customers with current monthly statuses than there are in the original dataframe, we are forced to accept a significant loss of data, which could affect the accuracy of the model. "
   ]
  },
  {
   "cell_type": "code",
   "execution_count": 426,
   "id": "c2cb372e",
   "metadata": {},
   "outputs": [],
   "source": [
    "# Join the two dataframes\n",
    "df = pd.merge(df, credit_record[[\"id\", \"status\"]], on=\"id\", how=\"left\")\n",
    "\n",
    "# Drop id column that is no longer needed\n",
    "df = df.drop(columns={\"id\"})"
   ]
  },
  {
   "cell_type": "code",
   "execution_count": 427,
   "id": "cf9a5c2f",
   "metadata": {
    "scrolled": true
   },
   "outputs": [
    {
     "data": {
      "text/html": [
       "<div>\n",
       "<style scoped>\n",
       "    .dataframe tbody tr th:only-of-type {\n",
       "        vertical-align: middle;\n",
       "    }\n",
       "\n",
       "    .dataframe tbody tr th {\n",
       "        vertical-align: top;\n",
       "    }\n",
       "\n",
       "    .dataframe thead th {\n",
       "        text-align: right;\n",
       "    }\n",
       "</style>\n",
       "<table border=\"1\" class=\"dataframe\">\n",
       "  <thead>\n",
       "    <tr style=\"text-align: right;\">\n",
       "      <th></th>\n",
       "      <th>gender</th>\n",
       "      <th>owns_car</th>\n",
       "      <th>owns_realty</th>\n",
       "      <th>children</th>\n",
       "      <th>income</th>\n",
       "      <th>income_type</th>\n",
       "      <th>education_type</th>\n",
       "      <th>family_status</th>\n",
       "      <th>housing_type</th>\n",
       "      <th>age_in_days</th>\n",
       "      <th>days_employed</th>\n",
       "      <th>has_mobile_phone</th>\n",
       "      <th>has_work_phone</th>\n",
       "      <th>has_phone</th>\n",
       "      <th>has_email</th>\n",
       "      <th>occupation_type</th>\n",
       "      <th>family_size</th>\n",
       "      <th>status</th>\n",
       "    </tr>\n",
       "  </thead>\n",
       "  <tbody>\n",
       "    <tr>\n",
       "      <th>284481</th>\n",
       "      <td>F</td>\n",
       "      <td>N</td>\n",
       "      <td>Y</td>\n",
       "      <td>0</td>\n",
       "      <td>90000.0</td>\n",
       "      <td>Pensioner</td>\n",
       "      <td>Secondary / secondary special</td>\n",
       "      <td>Separated</td>\n",
       "      <td>House / apartment</td>\n",
       "      <td>23010</td>\n",
       "      <td>-365243</td>\n",
       "      <td>1</td>\n",
       "      <td>0</td>\n",
       "      <td>0</td>\n",
       "      <td>0</td>\n",
       "      <td>NaN</td>\n",
       "      <td>1.0</td>\n",
       "      <td>NaN</td>\n",
       "    </tr>\n",
       "    <tr>\n",
       "      <th>203727</th>\n",
       "      <td>F</td>\n",
       "      <td>N</td>\n",
       "      <td>Y</td>\n",
       "      <td>1</td>\n",
       "      <td>81000.0</td>\n",
       "      <td>Working</td>\n",
       "      <td>Secondary / secondary special</td>\n",
       "      <td>Married</td>\n",
       "      <td>House / apartment</td>\n",
       "      <td>16812</td>\n",
       "      <td>1094</td>\n",
       "      <td>1</td>\n",
       "      <td>1</td>\n",
       "      <td>0</td>\n",
       "      <td>0</td>\n",
       "      <td>Sales staff</td>\n",
       "      <td>3.0</td>\n",
       "      <td>NaN</td>\n",
       "    </tr>\n",
       "    <tr>\n",
       "      <th>233631</th>\n",
       "      <td>M</td>\n",
       "      <td>N</td>\n",
       "      <td>Y</td>\n",
       "      <td>1</td>\n",
       "      <td>189000.0</td>\n",
       "      <td>Working</td>\n",
       "      <td>Secondary / secondary special</td>\n",
       "      <td>Married</td>\n",
       "      <td>House / apartment</td>\n",
       "      <td>13516</td>\n",
       "      <td>1312</td>\n",
       "      <td>1</td>\n",
       "      <td>0</td>\n",
       "      <td>0</td>\n",
       "      <td>0</td>\n",
       "      <td>NaN</td>\n",
       "      <td>3.0</td>\n",
       "      <td>NaN</td>\n",
       "    </tr>\n",
       "    <tr>\n",
       "      <th>7505</th>\n",
       "      <td>M</td>\n",
       "      <td>N</td>\n",
       "      <td>Y</td>\n",
       "      <td>0</td>\n",
       "      <td>360000.0</td>\n",
       "      <td>Commercial associate</td>\n",
       "      <td>Secondary / secondary special</td>\n",
       "      <td>Married</td>\n",
       "      <td>House / apartment</td>\n",
       "      <td>12483</td>\n",
       "      <td>4039</td>\n",
       "      <td>1</td>\n",
       "      <td>0</td>\n",
       "      <td>0</td>\n",
       "      <td>0</td>\n",
       "      <td>Managers</td>\n",
       "      <td>2.0</td>\n",
       "      <td>C</td>\n",
       "    </tr>\n",
       "    <tr>\n",
       "      <th>192047</th>\n",
       "      <td>F</td>\n",
       "      <td>Y</td>\n",
       "      <td>Y</td>\n",
       "      <td>0</td>\n",
       "      <td>112500.0</td>\n",
       "      <td>Pensioner</td>\n",
       "      <td>Secondary / secondary special</td>\n",
       "      <td>Married</td>\n",
       "      <td>House / apartment</td>\n",
       "      <td>21220</td>\n",
       "      <td>-365243</td>\n",
       "      <td>1</td>\n",
       "      <td>0</td>\n",
       "      <td>0</td>\n",
       "      <td>0</td>\n",
       "      <td>NaN</td>\n",
       "      <td>2.0</td>\n",
       "      <td>NaN</td>\n",
       "    </tr>\n",
       "  </tbody>\n",
       "</table>\n",
       "</div>"
      ],
      "text/plain": [
       "       gender owns_car owns_realty  children    income           income_type  \\\n",
       "284481      F        N           Y         0   90000.0             Pensioner   \n",
       "203727      F        N           Y         1   81000.0               Working   \n",
       "233631      M        N           Y         1  189000.0               Working   \n",
       "7505        M        N           Y         0  360000.0  Commercial associate   \n",
       "192047      F        Y           Y         0  112500.0             Pensioner   \n",
       "\n",
       "                       education_type family_status       housing_type  \\\n",
       "284481  Secondary / secondary special     Separated  House / apartment   \n",
       "203727  Secondary / secondary special       Married  House / apartment   \n",
       "233631  Secondary / secondary special       Married  House / apartment   \n",
       "7505    Secondary / secondary special       Married  House / apartment   \n",
       "192047  Secondary / secondary special       Married  House / apartment   \n",
       "\n",
       "        age_in_days  days_employed  has_mobile_phone  has_work_phone  \\\n",
       "284481        23010        -365243                 1               0   \n",
       "203727        16812           1094                 1               1   \n",
       "233631        13516           1312                 1               0   \n",
       "7505          12483           4039                 1               0   \n",
       "192047        21220        -365243                 1               0   \n",
       "\n",
       "        has_phone  has_email occupation_type  family_size status  \n",
       "284481          0          0             NaN          1.0    NaN  \n",
       "203727          0          0     Sales staff          3.0    NaN  \n",
       "233631          0          0             NaN          3.0    NaN  \n",
       "7505            0          0        Managers          2.0      C  \n",
       "192047          0          0             NaN          2.0    NaN  "
      ]
     },
     "execution_count": 427,
     "metadata": {},
     "output_type": "execute_result"
    }
   ],
   "source": [
    "# Show 5 random rows of data\n",
    "df.sample(5, random_state=42)"
   ]
  },
  {
   "cell_type": "markdown",
   "id": "81ef1635",
   "metadata": {},
   "source": [
    "Updated `age_in_days` and `days_employed` meanings: \n",
    "* `age_in_days` is now a positive number indicating how many days have elapsed since the person was born. \n",
    "* `days_employed` is now a positive number indicating how many days the person has been employed, or a negative number indicating how many days the person has been unemployed for. "
   ]
  },
  {
   "cell_type": "markdown",
   "id": "55928058",
   "metadata": {},
   "source": [
    "<b>Check for missing values and clean the data.</b>"
   ]
  },
  {
   "cell_type": "code",
   "execution_count": 428,
   "id": "0f08d15a",
   "metadata": {
    "scrolled": false
   },
   "outputs": [
    {
     "name": "stdout",
     "output_type": "stream",
     "text": [
      "Rows with missing values: 421514\n"
     ]
    }
   ],
   "source": [
    "# Find missing value count\n",
    "print(f\"Rows with missing values: {len(df[df.isna().any(axis=1)])}\")"
   ]
  },
  {
   "cell_type": "code",
   "execution_count": 429,
   "id": "494041b3",
   "metadata": {},
   "outputs": [],
   "source": [
    "# Fill in missing values (mode for categorical columns, mean or median for numeric columns)\n",
    "df[\"gender\"].fillna(df[\"gender\"].mode()[0], inplace=True)\n",
    "df[\"owns_car\"].fillna(df[\"owns_car\"].mode()[0], inplace=True)\n",
    "df[\"owns_realty\"].fillna(df[\"owns_realty\"].mode()[0], inplace=True)\n",
    "df[\"children\"].fillna(df[\"children\"].median(), inplace=True)\n",
    "df[\"income\"].fillna(df[\"income\"].median(), inplace=True)\n",
    "df[\"income_type\"].fillna(df[\"income_type\"].mode()[0], inplace=True)\n",
    "df[\"education_type\"].fillna(df[\"education_type\"].mode()[0], inplace=True)\n",
    "df[\"family_status\"].fillna(df[\"family_status\"].mode()[0], inplace=True)\n",
    "df[\"housing_type\"].fillna(df[\"housing_type\"].mode()[0], inplace=True)\n",
    "df[\"age_in_days\"].fillna(df[\"age_in_days\"].median(), inplace=True)\n",
    "df[\"days_employed\"].fillna(df[\"days_employed\"].median(), inplace=True)\n",
    "df[\"has_mobile_phone\"].fillna(df[\"has_mobile_phone\"].mode()[0], inplace=True)\n",
    "df[\"has_work_phone\"].fillna(df[\"has_work_phone\"].mode()[0], inplace=True)\n",
    "df[\"has_phone\"].fillna(df[\"has_phone\"].mode()[0], inplace=True)\n",
    "df[\"has_email\"].fillna(df[\"has_email\"].mode()[0], inplace=True)\n",
    "\n",
    "# Fill in missing \"occupation_type\" values with a random selection from the 3 most popular occupation types\n",
    "most_popular_occupation_types = [\"Laborers\", \"Core staff\", \"Sales staff\"]\n",
    "def fill_missing_occupation(row): \n",
    "    if(pd.isna(row[\"occupation_type\"])): \n",
    "        return random.choice(most_popular_occupation_types)\n",
    "    else:\n",
    "        return row[\"occupation_type\"]\n",
    "df[\"occupation_type\"] = df.apply(fill_missing_occupation, axis=1)\n",
    "\n",
    "# Drop rows with missing \"status\" values\n",
    "df = df.dropna()"
   ]
  },
  {
   "cell_type": "code",
   "execution_count": 430,
   "id": "544157da",
   "metadata": {
    "scrolled": false
   },
   "outputs": [
    {
     "name": "stdout",
     "output_type": "stream",
     "text": [
      "Rows with missing values: 0\n"
     ]
    }
   ],
   "source": [
    "print(f\"Rows with missing values: {len(df[df.isna().any(axis=1)])}\")"
   ]
  },
  {
   "cell_type": "markdown",
   "id": "e11faa73",
   "metadata": {},
   "source": [
    "<b>Check for outliers and decide if and how to process them.</b>"
   ]
  },
  {
   "cell_type": "code",
   "execution_count": 431,
   "id": "cf7d94f2",
   "metadata": {},
   "outputs": [
    {
     "data": {
      "text/html": [
       "<div>\n",
       "<style scoped>\n",
       "    .dataframe tbody tr th:only-of-type {\n",
       "        vertical-align: middle;\n",
       "    }\n",
       "\n",
       "    .dataframe tbody tr th {\n",
       "        vertical-align: top;\n",
       "    }\n",
       "\n",
       "    .dataframe thead th {\n",
       "        text-align: right;\n",
       "    }\n",
       "</style>\n",
       "<table border=\"1\" class=\"dataframe\">\n",
       "  <thead>\n",
       "    <tr style=\"text-align: right;\">\n",
       "      <th></th>\n",
       "      <th>count</th>\n",
       "      <th>mean</th>\n",
       "      <th>std</th>\n",
       "      <th>min</th>\n",
       "      <th>25%</th>\n",
       "      <th>50%</th>\n",
       "      <th>75%</th>\n",
       "      <th>max</th>\n",
       "    </tr>\n",
       "  </thead>\n",
       "  <tbody>\n",
       "    <tr>\n",
       "      <th>income</th>\n",
       "      <td>24672.0</td>\n",
       "      <td>187074.991488</td>\n",
       "      <td>102094.831348</td>\n",
       "      <td>27000.0</td>\n",
       "      <td>121500.0</td>\n",
       "      <td>157500.0</td>\n",
       "      <td>225000.0</td>\n",
       "      <td>1575000.0</td>\n",
       "    </tr>\n",
       "  </tbody>\n",
       "</table>\n",
       "</div>"
      ],
      "text/plain": [
       "          count           mean            std      min       25%       50%  \\\n",
       "income  24672.0  187074.991488  102094.831348  27000.0  121500.0  157500.0   \n",
       "\n",
       "             75%        max  \n",
       "income  225000.0  1575000.0  "
      ]
     },
     "execution_count": 431,
     "metadata": {},
     "output_type": "execute_result"
    }
   ],
   "source": [
    "# Check descriptive statistics for \"income\"\n",
    "df[\"income\"].describe().to_frame().transpose()"
   ]
  },
  {
   "cell_type": "markdown",
   "id": "eb3f209c",
   "metadata": {},
   "source": [
    "The lowest income is <span>&dollar;27,000</span>, the highest income is <span>&dollar;1575000</span> (plausible for a CEO), and the mean income is ~<span>&dollar;187,000</span>. These seem like reasonable numbers. Let's check how many applicants make over <span>&dollar;1 million</span>, <span>&dollar;500k</span>, and <span>&dollar;250k</span>. "
   ]
  },
  {
   "cell_type": "code",
   "execution_count": 432,
   "id": "2ec16b58",
   "metadata": {},
   "outputs": [
    {
     "name": "stdout",
     "output_type": "stream",
     "text": [
      "Applicants making over $1 million: 11\n",
      "Applicants making over $500k: 324\n",
      "Applicants making over $250k: 4527\n"
     ]
    }
   ],
   "source": [
    "applicants_over_1mil = len(df[df[\"income\"] > 1000000])\n",
    "applicants_over_500k = len(df[df[\"income\"] > 500000])\n",
    "applicants_over_250k = len(df[df[\"income\"] > 250000])\n",
    "\n",
    "print(f\"Applicants making over $1 million: {applicants_over_1mil}\")\n",
    "print(f\"Applicants making over $500k: {applicants_over_500k}\")\n",
    "print(f\"Applicants making over $250k: {applicants_over_250k}\")"
   ]
  },
  {
   "cell_type": "markdown",
   "id": "366c84cd",
   "metadata": {},
   "source": [
    "We see that less than 20% of applicants make over <span>&dollar;250k</span>, and a very small number make over <span>&dollar;500k</span> or <span>&dollar;1 million.</span> Thus, these high-income entries should not be a problem, and nothing needs to be done about outliers for this column. "
   ]
  },
  {
   "cell_type": "code",
   "execution_count": 433,
   "id": "889a717f",
   "metadata": {},
   "outputs": [
    {
     "data": {
      "text/html": [
       "<div>\n",
       "<style scoped>\n",
       "    .dataframe tbody tr th:only-of-type {\n",
       "        vertical-align: middle;\n",
       "    }\n",
       "\n",
       "    .dataframe tbody tr th {\n",
       "        vertical-align: top;\n",
       "    }\n",
       "\n",
       "    .dataframe thead th {\n",
       "        text-align: right;\n",
       "    }\n",
       "</style>\n",
       "<table border=\"1\" class=\"dataframe\">\n",
       "  <thead>\n",
       "    <tr style=\"text-align: right;\">\n",
       "      <th></th>\n",
       "      <th>count</th>\n",
       "      <th>mean</th>\n",
       "      <th>std</th>\n",
       "      <th>min</th>\n",
       "      <th>25%</th>\n",
       "      <th>50%</th>\n",
       "      <th>75%</th>\n",
       "      <th>max</th>\n",
       "    </tr>\n",
       "  </thead>\n",
       "  <tbody>\n",
       "    <tr>\n",
       "      <th>age_in_days</th>\n",
       "      <td>24672.0</td>\n",
       "      <td>16022.503161</td>\n",
       "      <td>4181.750665</td>\n",
       "      <td>7489.0</td>\n",
       "      <td>12541.75</td>\n",
       "      <td>15653.0</td>\n",
       "      <td>19453.0</td>\n",
       "      <td>25152.0</td>\n",
       "    </tr>\n",
       "  </tbody>\n",
       "</table>\n",
       "</div>"
      ],
      "text/plain": [
       "               count          mean          std     min       25%      50%  \\\n",
       "age_in_days  24672.0  16022.503161  4181.750665  7489.0  12541.75  15653.0   \n",
       "\n",
       "                 75%      max  \n",
       "age_in_days  19453.0  25152.0  "
      ]
     },
     "execution_count": 433,
     "metadata": {},
     "output_type": "execute_result"
    }
   ],
   "source": [
    "# Check descriptive statistics for \"age_in_days\"\n",
    "df[\"age_in_days\"].describe().to_frame().transpose()"
   ]
  },
  {
   "cell_type": "markdown",
   "id": "710bf5b8",
   "metadata": {},
   "source": [
    "The oldest applicant is about 69 years old, the youngest is 20, and the average applicant is about 44. Again, these are reasonable numbers, so nothing needs to be handled for this column either. "
   ]
  },
  {
   "cell_type": "code",
   "execution_count": 434,
   "id": "76c79496",
   "metadata": {},
   "outputs": [
    {
     "data": {
      "text/html": [
       "<div>\n",
       "<style scoped>\n",
       "    .dataframe tbody tr th:only-of-type {\n",
       "        vertical-align: middle;\n",
       "    }\n",
       "\n",
       "    .dataframe tbody tr th {\n",
       "        vertical-align: top;\n",
       "    }\n",
       "\n",
       "    .dataframe thead th {\n",
       "        text-align: right;\n",
       "    }\n",
       "</style>\n",
       "<table border=\"1\" class=\"dataframe\">\n",
       "  <thead>\n",
       "    <tr style=\"text-align: right;\">\n",
       "      <th></th>\n",
       "      <th>count</th>\n",
       "      <th>mean</th>\n",
       "      <th>std</th>\n",
       "      <th>min</th>\n",
       "      <th>25%</th>\n",
       "      <th>50%</th>\n",
       "      <th>75%</th>\n",
       "      <th>max</th>\n",
       "    </tr>\n",
       "  </thead>\n",
       "  <tbody>\n",
       "    <tr>\n",
       "      <th>days_employed</th>\n",
       "      <td>24672.0</td>\n",
       "      <td>-58970.168126</td>\n",
       "      <td>137408.898862</td>\n",
       "      <td>-365243.0</td>\n",
       "      <td>401.0</td>\n",
       "      <td>1546.0</td>\n",
       "      <td>3170.0</td>\n",
       "      <td>15713.0</td>\n",
       "    </tr>\n",
       "  </tbody>\n",
       "</table>\n",
       "</div>"
      ],
      "text/plain": [
       "                 count          mean            std       min    25%     50%  \\\n",
       "days_employed  24672.0 -58970.168126  137408.898862 -365243.0  401.0  1546.0   \n",
       "\n",
       "                  75%      max  \n",
       "days_employed  3170.0  15713.0  "
      ]
     },
     "execution_count": 434,
     "metadata": {},
     "output_type": "execute_result"
    }
   ],
   "source": [
    "# Check descriptive statistics for \"days_employed\"\n",
    "df[\"days_employed\"].describe().to_frame().transpose()"
   ]
  },
  {
   "cell_type": "markdown",
   "id": "4dd07eed",
   "metadata": {},
   "source": [
    "We see that the longest an applicant has been unemployed for is over 1,000 years, which is absurd. Let's see how many times this $-365243$ value is repeated. "
   ]
  },
  {
   "cell_type": "code",
   "execution_count": 435,
   "id": "5c14760b",
   "metadata": {},
   "outputs": [
    {
     "data": {
      "text/plain": [
       "4133"
      ]
     },
     "execution_count": 435,
     "metadata": {},
     "output_type": "execute_result"
    }
   ],
   "source": [
    "len(df[df[\"days_employed\"] == -365243])"
   ]
  },
  {
   "cell_type": "markdown",
   "id": "e630d93b",
   "metadata": {},
   "source": [
    "This specific value is present in almost 20% of entries, and must be corrected. Let's replace it with values taken from a normal distribution of `days_employed`. "
   ]
  },
  {
   "cell_type": "code",
   "execution_count": 436,
   "id": "78d50bd8",
   "metadata": {},
   "outputs": [],
   "source": [
    "# Replace -365243 values for \"days_employed\"\n",
    "unrealistic_values = df[\"days_employed\"] == -365243\n",
    "mean_days_employed = df.loc[~unrealistic_values, \"days_employed\"].mean()\n",
    "std_days_employed = df.loc[~unrealistic_values, \"days_employed\"].std()\n",
    "\n",
    "np.random.seed(42)\n",
    "df[\"days_employed\"] = np.where(unrealistic_values, np.random.normal(loc=mean_days_employed, scale=std_days_employed, size=df.shape[0]), df[\"days_employed\"])"
   ]
  },
  {
   "cell_type": "code",
   "execution_count": 437,
   "id": "172581ea",
   "metadata": {},
   "outputs": [
    {
     "data": {
      "image/png": "[encoded data removed]",
      "text/plain": [
       "<Figure size 640x480 with 1 Axes>"
      ]
     },
     "metadata": {},
     "output_type": "display_data"
    }
   ],
   "source": [
    "# View distribution of \"days_employed\"\n",
    "sns.histplot(df[\"days_employed\"])\n",
    "plt.title(\"Distribution of Days Employed\")\n",
    "plt.show()"
   ]
  },
  {
   "cell_type": "code",
   "execution_count": 438,
   "id": "e30336a1",
   "metadata": {},
   "outputs": [
    {
     "data": {
      "text/html": [
       "<div>\n",
       "<style scoped>\n",
       "    .dataframe tbody tr th:only-of-type {\n",
       "        vertical-align: middle;\n",
       "    }\n",
       "\n",
       "    .dataframe tbody tr th {\n",
       "        vertical-align: top;\n",
       "    }\n",
       "\n",
       "    .dataframe thead th {\n",
       "        text-align: right;\n",
       "    }\n",
       "</style>\n",
       "<table border=\"1\" class=\"dataframe\">\n",
       "  <thead>\n",
       "    <tr style=\"text-align: right;\">\n",
       "      <th></th>\n",
       "      <th>gender</th>\n",
       "      <th>owns_car</th>\n",
       "      <th>owns_realty</th>\n",
       "      <th>children</th>\n",
       "      <th>income</th>\n",
       "      <th>income_type</th>\n",
       "      <th>education_type</th>\n",
       "      <th>family_status</th>\n",
       "      <th>housing_type</th>\n",
       "      <th>age_in_days</th>\n",
       "      <th>days_employed</th>\n",
       "      <th>has_mobile_phone</th>\n",
       "      <th>has_work_phone</th>\n",
       "      <th>has_phone</th>\n",
       "      <th>has_email</th>\n",
       "      <th>occupation_type</th>\n",
       "      <th>family_size</th>\n",
       "      <th>status</th>\n",
       "    </tr>\n",
       "  </thead>\n",
       "  <tbody>\n",
       "    <tr>\n",
       "      <th>0</th>\n",
       "      <td>M</td>\n",
       "      <td>Y</td>\n",
       "      <td>Y</td>\n",
       "      <td>0</td>\n",
       "      <td>427500.0</td>\n",
       "      <td>Working</td>\n",
       "      <td>Higher education</td>\n",
       "      <td>Civil marriage</td>\n",
       "      <td>Rented apartment</td>\n",
       "      <td>12005</td>\n",
       "      <td>4542.0</td>\n",
       "      <td>1</td>\n",
       "      <td>1</td>\n",
       "      <td>0</td>\n",
       "      <td>0</td>\n",
       "      <td>Core staff</td>\n",
       "      <td>2.0</td>\n",
       "      <td>C</td>\n",
       "    </tr>\n",
       "  </tbody>\n",
       "</table>\n",
       "</div>"
      ],
      "text/plain": [
       "  gender owns_car owns_realty  children    income income_type  \\\n",
       "0      M        Y           Y         0  427500.0     Working   \n",
       "\n",
       "     education_type   family_status      housing_type  age_in_days  \\\n",
       "0  Higher education  Civil marriage  Rented apartment        12005   \n",
       "\n",
       "   days_employed  has_mobile_phone  has_work_phone  has_phone  has_email  \\\n",
       "0         4542.0                 1               1          0          0   \n",
       "\n",
       "  occupation_type  family_size status  \n",
       "0      Core staff          2.0      C  "
      ]
     },
     "execution_count": 438,
     "metadata": {},
     "output_type": "execute_result"
    }
   ],
   "source": [
    "df.head(1)"
   ]
  },
  {
   "cell_type": "code",
   "execution_count": 439,
   "id": "5627a32b",
   "metadata": {},
   "outputs": [
    {
     "name": "stdout",
     "output_type": "stream",
     "text": [
      "Median: 2.0\n"
     ]
    },
    {
     "data": {
      "text/html": [
       "<div>\n",
       "<style scoped>\n",
       "    .dataframe tbody tr th:only-of-type {\n",
       "        vertical-align: middle;\n",
       "    }\n",
       "\n",
       "    .dataframe tbody tr th {\n",
       "        vertical-align: top;\n",
       "    }\n",
       "\n",
       "    .dataframe thead th {\n",
       "        text-align: right;\n",
       "    }\n",
       "</style>\n",
       "<table border=\"1\" class=\"dataframe\">\n",
       "  <thead>\n",
       "    <tr style=\"text-align: right;\">\n",
       "      <th></th>\n",
       "      <th>count</th>\n",
       "      <th>mean</th>\n",
       "      <th>std</th>\n",
       "      <th>min</th>\n",
       "      <th>25%</th>\n",
       "      <th>50%</th>\n",
       "      <th>75%</th>\n",
       "      <th>max</th>\n",
       "    </tr>\n",
       "  </thead>\n",
       "  <tbody>\n",
       "    <tr>\n",
       "      <th>family_size</th>\n",
       "      <td>24672.0</td>\n",
       "      <td>2.184257</td>\n",
       "      <td>0.912098</td>\n",
       "      <td>1.0</td>\n",
       "      <td>2.0</td>\n",
       "      <td>2.0</td>\n",
       "      <td>3.0</td>\n",
       "      <td>20.0</td>\n",
       "    </tr>\n",
       "  </tbody>\n",
       "</table>\n",
       "</div>"
      ],
      "text/plain": [
       "               count      mean       std  min  25%  50%  75%   max\n",
       "family_size  24672.0  2.184257  0.912098  1.0  2.0  2.0  3.0  20.0"
      ]
     },
     "execution_count": 439,
     "metadata": {},
     "output_type": "execute_result"
    }
   ],
   "source": [
    "# View descriptive statistics for \"family_size\"\n",
    "median = df[\"family_size\"].median()\n",
    "print(f\"Median: {median}\")\n",
    "df[\"family_size\"].describe().to_frame().transpose()"
   ]
  },
  {
   "cell_type": "markdown",
   "id": "a23aefca",
   "metadata": {},
   "source": [
    "We see about what we would expect, with a mean family size just above 2, a median at 2, and a minimum at 1 (for people living on their own). The only surprise is the max at 20, which seems like an absurdly large family. Suppose the maximum reasonable family size is 10. Let's see how many families are larger than that. "
   ]
  },
  {
   "cell_type": "code",
   "execution_count": 440,
   "id": "2d6c2727",
   "metadata": {},
   "outputs": [
    {
     "data": {
      "text/plain": [
       "4"
      ]
     },
     "execution_count": 440,
     "metadata": {},
     "output_type": "execute_result"
    }
   ],
   "source": [
    "len(df[df[\"family_size\"] > 10])"
   ]
  },
  {
   "cell_type": "markdown",
   "id": "487d9f00",
   "metadata": {},
   "source": [
    "Only 4 out of over 438,000 people have families larger than 10 people, so these outliers should have a negligible effect on the analysis. "
   ]
  },
  {
   "cell_type": "markdown",
   "id": "99a581b4",
   "metadata": {},
   "source": [
    "<b>Formally state what your model will predict using the variables in the data.</b>\n",
    "\n",
    "Using the variables in the data, my model will predict whether a customer's credit card application should be accepted or rejected."
   ]
  },
  {
   "cell_type": "markdown",
   "id": "9a2f3357",
   "metadata": {},
   "source": [
    "<b>Prepare the data for modeling.</b>"
   ]
  },
  {
   "cell_type": "markdown",
   "id": "62e4e78f",
   "metadata": {},
   "source": [
    "Next, we will make every predictor numeric with dummy variables and label encoding, then normalize the data. These two steps will make the data suitable for modeling. "
   ]
  },
  {
   "cell_type": "code",
   "execution_count": 441,
   "id": "4aa027eb",
   "metadata": {},
   "outputs": [
    {
     "data": {
      "text/html": [
       "<div>\n",
       "<style scoped>\n",
       "    .dataframe tbody tr th:only-of-type {\n",
       "        vertical-align: middle;\n",
       "    }\n",
       "\n",
       "    .dataframe tbody tr th {\n",
       "        vertical-align: top;\n",
       "    }\n",
       "\n",
       "    .dataframe thead th {\n",
       "        text-align: right;\n",
       "    }\n",
       "</style>\n",
       "<table border=\"1\" class=\"dataframe\">\n",
       "  <thead>\n",
       "    <tr style=\"text-align: right;\">\n",
       "      <th></th>\n",
       "      <th>gender</th>\n",
       "      <th>owns_car</th>\n",
       "      <th>owns_realty</th>\n",
       "      <th>children</th>\n",
       "      <th>income</th>\n",
       "      <th>income_type</th>\n",
       "      <th>education_type</th>\n",
       "      <th>family_status</th>\n",
       "      <th>housing_type</th>\n",
       "      <th>age_in_days</th>\n",
       "      <th>days_employed</th>\n",
       "      <th>has_mobile_phone</th>\n",
       "      <th>has_work_phone</th>\n",
       "      <th>has_phone</th>\n",
       "      <th>has_email</th>\n",
       "      <th>occupation_type</th>\n",
       "      <th>family_size</th>\n",
       "      <th>status</th>\n",
       "    </tr>\n",
       "  </thead>\n",
       "  <tbody>\n",
       "    <tr>\n",
       "      <th>0</th>\n",
       "      <td>M</td>\n",
       "      <td>Y</td>\n",
       "      <td>Y</td>\n",
       "      <td>0</td>\n",
       "      <td>427500.0</td>\n",
       "      <td>Working</td>\n",
       "      <td>Higher education</td>\n",
       "      <td>Civil marriage</td>\n",
       "      <td>Rented apartment</td>\n",
       "      <td>12005</td>\n",
       "      <td>4542.0</td>\n",
       "      <td>1</td>\n",
       "      <td>1</td>\n",
       "      <td>0</td>\n",
       "      <td>0</td>\n",
       "      <td>Core staff</td>\n",
       "      <td>2.0</td>\n",
       "      <td>C</td>\n",
       "    </tr>\n",
       "  </tbody>\n",
       "</table>\n",
       "</div>"
      ],
      "text/plain": [
       "  gender owns_car owns_realty  children    income income_type  \\\n",
       "0      M        Y           Y         0  427500.0     Working   \n",
       "\n",
       "     education_type   family_status      housing_type  age_in_days  \\\n",
       "0  Higher education  Civil marriage  Rented apartment        12005   \n",
       "\n",
       "   days_employed  has_mobile_phone  has_work_phone  has_phone  has_email  \\\n",
       "0         4542.0                 1               1          0          0   \n",
       "\n",
       "  occupation_type  family_size status  \n",
       "0      Core staff          2.0      C  "
      ]
     },
     "execution_count": 441,
     "metadata": {},
     "output_type": "execute_result"
    }
   ],
   "source": [
    "# Show data before dummy and label encoding\n",
    "df.head(1)"
   ]
  },
  {
   "cell_type": "code",
   "execution_count": 442,
   "id": "22658737",
   "metadata": {},
   "outputs": [],
   "source": [
    "# Dummify \"gender\", \"income_type\", \"education_type\", \"family_status\", \"housing_type\", and \"occupation_type\"\n",
    "df = pd.get_dummies(df, columns=[\"gender\", \"income_type\", \"education_type\", \"family_status\", \"housing_type\", \"occupation_type\"])\n",
    "\n",
    "# Convert dummified columns to int datatype\n",
    "for col in df.columns: \n",
    "    if df[col].dtype == \"bool\": \n",
    "        df[col] = df[col].astype(int)\n",
    "\n",
    "# Apply label encoding to \"owns_car\",\"owns_realty\" and \"status\"\n",
    "label_encoder = LabelEncoder()\n",
    "df[\"owns_car\"] = label_encoder.fit_transform(df[\"owns_car\"])\n",
    "df[\"owns_realty\"] = label_encoder.fit_transform(df[\"owns_realty\"])\n",
    "df[\"status\"] = label_encoder.fit_transform(df[\"status\"])\n",
    "df[\"status\"] = df[\"status\"].astype(int)"
   ]
  },
  {
   "cell_type": "markdown",
   "id": "e8350e46",
   "metadata": {},
   "source": [
    "After performing label encoding, `status` has the following modifications:\n",
    "* \"C\" changed to 6\n",
    "* \"X\" changed to 7\n",
    "\n",
    "We now need to convert these values into 0 or 1 so logistic regression can be run on the data. We will consider customers who have outstanding debt (1-5) to be rejected (0), and those who have paid off their debt that month or haven't taken a loan to be approved (1). "
   ]
  },
  {
   "cell_type": "code",
   "execution_count": 443,
   "id": "de64799d",
   "metadata": {},
   "outputs": [],
   "source": [
    "# Convert \"status\" to binary values\n",
    "df[\"status\"] = np.where(df[\"status\"] <= 5, 0, df[\"status\"])\n",
    "df[\"status\"] = np.where(df[\"status\"] > 5, 1, df[\"status\"])"
   ]
  },
  {
   "cell_type": "code",
   "execution_count": 444,
   "id": "b909746e",
   "metadata": {},
   "outputs": [
    {
     "data": {
      "text/html": [
       "<div>\n",
       "<style scoped>\n",
       "    .dataframe tbody tr th:only-of-type {\n",
       "        vertical-align: middle;\n",
       "    }\n",
       "\n",
       "    .dataframe tbody tr th {\n",
       "        vertical-align: top;\n",
       "    }\n",
       "\n",
       "    .dataframe thead th {\n",
       "        text-align: right;\n",
       "    }\n",
       "</style>\n",
       "<table border=\"1\" class=\"dataframe\">\n",
       "  <thead>\n",
       "    <tr style=\"text-align: right;\">\n",
       "      <th></th>\n",
       "      <th>owns_car</th>\n",
       "      <th>owns_realty</th>\n",
       "      <th>children</th>\n",
       "      <th>income</th>\n",
       "      <th>age_in_days</th>\n",
       "      <th>days_employed</th>\n",
       "      <th>has_mobile_phone</th>\n",
       "      <th>has_work_phone</th>\n",
       "      <th>has_phone</th>\n",
       "      <th>has_email</th>\n",
       "      <th>...</th>\n",
       "      <th>occupation_type_Laborers</th>\n",
       "      <th>occupation_type_Low-skill Laborers</th>\n",
       "      <th>occupation_type_Managers</th>\n",
       "      <th>occupation_type_Medicine staff</th>\n",
       "      <th>occupation_type_Private service staff</th>\n",
       "      <th>occupation_type_Realty agents</th>\n",
       "      <th>occupation_type_Sales staff</th>\n",
       "      <th>occupation_type_Secretaries</th>\n",
       "      <th>occupation_type_Security staff</th>\n",
       "      <th>occupation_type_Waiters/barmen staff</th>\n",
       "    </tr>\n",
       "  </thead>\n",
       "  <tbody>\n",
       "    <tr>\n",
       "      <th>0</th>\n",
       "      <td>1</td>\n",
       "      <td>1</td>\n",
       "      <td>0</td>\n",
       "      <td>427500.0</td>\n",
       "      <td>12005</td>\n",
       "      <td>4542.0</td>\n",
       "      <td>1</td>\n",
       "      <td>1</td>\n",
       "      <td>0</td>\n",
       "      <td>0</td>\n",
       "      <td>...</td>\n",
       "      <td>0</td>\n",
       "      <td>0</td>\n",
       "      <td>0</td>\n",
       "      <td>0</td>\n",
       "      <td>0</td>\n",
       "      <td>0</td>\n",
       "      <td>0</td>\n",
       "      <td>0</td>\n",
       "      <td>0</td>\n",
       "      <td>0</td>\n",
       "    </tr>\n",
       "  </tbody>\n",
       "</table>\n",
       "<p>1 rows × 53 columns</p>\n",
       "</div>"
      ],
      "text/plain": [
       "   owns_car  owns_realty  children    income  age_in_days  days_employed  \\\n",
       "0         1            1         0  427500.0        12005         4542.0   \n",
       "\n",
       "   has_mobile_phone  has_work_phone  has_phone  has_email  ...  \\\n",
       "0                 1               1          0          0  ...   \n",
       "\n",
       "   occupation_type_Laborers  occupation_type_Low-skill Laborers  \\\n",
       "0                         0                                   0   \n",
       "\n",
       "   occupation_type_Managers  occupation_type_Medicine staff  \\\n",
       "0                         0                               0   \n",
       "\n",
       "   occupation_type_Private service staff  occupation_type_Realty agents  \\\n",
       "0                                      0                              0   \n",
       "\n",
       "   occupation_type_Sales staff  occupation_type_Secretaries  \\\n",
       "0                            0                            0   \n",
       "\n",
       "   occupation_type_Security staff  occupation_type_Waiters/barmen staff  \n",
       "0                               0                                     0  \n",
       "\n",
       "[1 rows x 53 columns]"
      ]
     },
     "execution_count": 444,
     "metadata": {},
     "output_type": "execute_result"
    }
   ],
   "source": [
    "# Show final result of dummification and label encoding\n",
    "df.head(1)"
   ]
  },
  {
   "cell_type": "markdown",
   "id": "0500248d",
   "metadata": {},
   "source": [
    "Now that all predictor variables are numeric, we must normalize them for modeling. "
   ]
  },
  {
   "cell_type": "code",
   "execution_count": 445,
   "id": "6e3c7bf1",
   "metadata": {},
   "outputs": [
    {
     "data": {
      "text/html": [
       "<div>\n",
       "<style scoped>\n",
       "    .dataframe tbody tr th:only-of-type {\n",
       "        vertical-align: middle;\n",
       "    }\n",
       "\n",
       "    .dataframe tbody tr th {\n",
       "        vertical-align: top;\n",
       "    }\n",
       "\n",
       "    .dataframe thead th {\n",
       "        text-align: right;\n",
       "    }\n",
       "</style>\n",
       "<table border=\"1\" class=\"dataframe\">\n",
       "  <thead>\n",
       "    <tr style=\"text-align: right;\">\n",
       "      <th></th>\n",
       "      <th>owns_car</th>\n",
       "      <th>owns_realty</th>\n",
       "      <th>children</th>\n",
       "      <th>income</th>\n",
       "      <th>age_in_days</th>\n",
       "      <th>days_employed</th>\n",
       "      <th>has_mobile_phone</th>\n",
       "      <th>has_work_phone</th>\n",
       "      <th>has_phone</th>\n",
       "      <th>has_email</th>\n",
       "      <th>...</th>\n",
       "      <th>occupation_type_Laborers</th>\n",
       "      <th>occupation_type_Low-skill Laborers</th>\n",
       "      <th>occupation_type_Managers</th>\n",
       "      <th>occupation_type_Medicine staff</th>\n",
       "      <th>occupation_type_Private service staff</th>\n",
       "      <th>occupation_type_Realty agents</th>\n",
       "      <th>occupation_type_Sales staff</th>\n",
       "      <th>occupation_type_Secretaries</th>\n",
       "      <th>occupation_type_Security staff</th>\n",
       "      <th>occupation_type_Waiters/barmen staff</th>\n",
       "    </tr>\n",
       "  </thead>\n",
       "  <tbody>\n",
       "    <tr>\n",
       "      <th>0</th>\n",
       "      <td>1</td>\n",
       "      <td>1</td>\n",
       "      <td>0</td>\n",
       "      <td>427500.0</td>\n",
       "      <td>12005</td>\n",
       "      <td>4542.0</td>\n",
       "      <td>1</td>\n",
       "      <td>1</td>\n",
       "      <td>0</td>\n",
       "      <td>0</td>\n",
       "      <td>...</td>\n",
       "      <td>0</td>\n",
       "      <td>0</td>\n",
       "      <td>0</td>\n",
       "      <td>0</td>\n",
       "      <td>0</td>\n",
       "      <td>0</td>\n",
       "      <td>0</td>\n",
       "      <td>0</td>\n",
       "      <td>0</td>\n",
       "      <td>0</td>\n",
       "    </tr>\n",
       "  </tbody>\n",
       "</table>\n",
       "<p>1 rows × 53 columns</p>\n",
       "</div>"
      ],
      "text/plain": [
       "   owns_car  owns_realty  children    income  age_in_days  days_employed  \\\n",
       "0         1            1         0  427500.0        12005         4542.0   \n",
       "\n",
       "   has_mobile_phone  has_work_phone  has_phone  has_email  ...  \\\n",
       "0                 1               1          0          0  ...   \n",
       "\n",
       "   occupation_type_Laborers  occupation_type_Low-skill Laborers  \\\n",
       "0                         0                                   0   \n",
       "\n",
       "   occupation_type_Managers  occupation_type_Medicine staff  \\\n",
       "0                         0                               0   \n",
       "\n",
       "   occupation_type_Private service staff  occupation_type_Realty agents  \\\n",
       "0                                      0                              0   \n",
       "\n",
       "   occupation_type_Sales staff  occupation_type_Secretaries  \\\n",
       "0                            0                            0   \n",
       "\n",
       "   occupation_type_Security staff  occupation_type_Waiters/barmen staff  \n",
       "0                               0                                     0  \n",
       "\n",
       "[1 rows x 53 columns]"
      ]
     },
     "execution_count": 445,
     "metadata": {},
     "output_type": "execute_result"
    }
   ],
   "source": [
    "df.head(1)"
   ]
  },
  {
   "cell_type": "code",
   "execution_count": 446,
   "id": "7049f410",
   "metadata": {
    "scrolled": false
   },
   "outputs": [
    {
     "data": {
      "text/html": [
       "<div>\n",
       "<style scoped>\n",
       "    .dataframe tbody tr th:only-of-type {\n",
       "        vertical-align: middle;\n",
       "    }\n",
       "\n",
       "    .dataframe tbody tr th {\n",
       "        vertical-align: top;\n",
       "    }\n",
       "\n",
       "    .dataframe thead th {\n",
       "        text-align: right;\n",
       "    }\n",
       "</style>\n",
       "<table border=\"1\" class=\"dataframe\">\n",
       "  <thead>\n",
       "    <tr style=\"text-align: right;\">\n",
       "      <th></th>\n",
       "      <th>owns_car</th>\n",
       "      <th>owns_realty</th>\n",
       "      <th>children</th>\n",
       "      <th>income</th>\n",
       "      <th>age_in_days</th>\n",
       "      <th>days_employed</th>\n",
       "      <th>has_mobile_phone</th>\n",
       "      <th>has_work_phone</th>\n",
       "      <th>has_phone</th>\n",
       "      <th>has_email</th>\n",
       "      <th>...</th>\n",
       "      <th>occupation_type_Low-skill Laborers</th>\n",
       "      <th>occupation_type_Managers</th>\n",
       "      <th>occupation_type_Medicine staff</th>\n",
       "      <th>occupation_type_Private service staff</th>\n",
       "      <th>occupation_type_Realty agents</th>\n",
       "      <th>occupation_type_Sales staff</th>\n",
       "      <th>occupation_type_Secretaries</th>\n",
       "      <th>occupation_type_Security staff</th>\n",
       "      <th>occupation_type_Waiters/barmen staff</th>\n",
       "      <th>status</th>\n",
       "    </tr>\n",
       "  </thead>\n",
       "  <tbody>\n",
       "    <tr>\n",
       "      <th>0</th>\n",
       "      <td>1</td>\n",
       "      <td>1</td>\n",
       "      <td>0.0</td>\n",
       "      <td>0.258721</td>\n",
       "      <td>0.255676</td>\n",
       "      <td>0.496994</td>\n",
       "      <td>1</td>\n",
       "      <td>1</td>\n",
       "      <td>0</td>\n",
       "      <td>0</td>\n",
       "      <td>...</td>\n",
       "      <td>0</td>\n",
       "      <td>0</td>\n",
       "      <td>0</td>\n",
       "      <td>0</td>\n",
       "      <td>0</td>\n",
       "      <td>0</td>\n",
       "      <td>0</td>\n",
       "      <td>0</td>\n",
       "      <td>0</td>\n",
       "      <td>1</td>\n",
       "    </tr>\n",
       "  </tbody>\n",
       "</table>\n",
       "<p>1 rows × 53 columns</p>\n",
       "</div>"
      ],
      "text/plain": [
       "   owns_car  owns_realty  children    income  age_in_days  days_employed  \\\n",
       "0         1            1       0.0  0.258721     0.255676       0.496994   \n",
       "\n",
       "   has_mobile_phone  has_work_phone  has_phone  has_email  ...  \\\n",
       "0                 1               1          0          0  ...   \n",
       "\n",
       "   occupation_type_Low-skill Laborers  occupation_type_Managers  \\\n",
       "0                                   0                         0   \n",
       "\n",
       "   occupation_type_Medicine staff  occupation_type_Private service staff  \\\n",
       "0                               0                                      0   \n",
       "\n",
       "   occupation_type_Realty agents  occupation_type_Sales staff  \\\n",
       "0                              0                            0   \n",
       "\n",
       "   occupation_type_Secretaries  occupation_type_Security staff  \\\n",
       "0                            0                               0   \n",
       "\n",
       "   occupation_type_Waiters/barmen staff  status  \n",
       "0                                     0       1  \n",
       "\n",
       "[1 rows x 53 columns]"
      ]
     },
     "execution_count": 446,
     "metadata": {},
     "output_type": "execute_result"
    }
   ],
   "source": [
    "# Normalize non-binary numeric variables\n",
    "status = df.pop(\"status\")\n",
    "scaler = MinMaxScaler()\n",
    "columns_to_normalize = [\"children\", \"income\", \"age_in_days\", \"days_employed\", \"family_size\"]\n",
    "df[columns_to_normalize] = scaler.fit_transform(df[columns_to_normalize])\n",
    "\n",
    "# Move label \"status\" to the end of the dataframe\n",
    "df[\"status\"] = status\n",
    "\n",
    "# Show final dataframe for modeling\n",
    "df.head(1)"
   ]
  },
  {
   "cell_type": "markdown",
   "id": "03cce903",
   "metadata": {},
   "source": [
    "Data is now ready for modeling."
   ]
  },
  {
   "cell_type": "markdown",
   "id": "42d2188c",
   "metadata": {},
   "source": [
    "### Task 2\n",
    "Split the data into a training set and a testing set with a split ratio of 70:30.<hr>"
   ]
  },
  {
   "cell_type": "code",
   "execution_count": 447,
   "id": "161f3ebb",
   "metadata": {},
   "outputs": [
    {
     "name": "stdout",
     "output_type": "stream",
     "text": [
      "Shape of x_train: (17270, 52), Shape of y_train: (17270,)\n",
      "Shape of x_test: (7402, 52), Shape of y_test: (7402,)\n"
     ]
    }
   ],
   "source": [
    "# Define features and target\n",
    "x = df.drop(\"status\", axis=1)\n",
    "y = df[\"status\"]\n",
    "\n",
    "# Split data into training and testing sets\n",
    "x_train, x_test, y_train, y_test = train_test_split(x, y, test_size=0.3, random_state=42)\n",
    "\n",
    "# Show the shapes of training and testing sets\n",
    "print(f\"Shape of x_train: {x_train.shape}, Shape of y_train: {y_train.shape}\")\n",
    "print(f\"Shape of x_test: {x_test.shape}, Shape of y_test: {y_test.shape}\")"
   ]
  },
  {
   "cell_type": "markdown",
   "id": "2492517a",
   "metadata": {},
   "source": [
    "Our data is now ready to be fed into the model."
   ]
  },
  {
   "cell_type": "markdown",
   "id": "55e429dc",
   "metadata": {},
   "source": [
    "### Task 3\n",
    "Build the Predictive Model:\n",
    "* Define the formula for the glm().\n",
    "* Run the model.\n",
    "* Interpret the results, referring to the p-values.<hr>"
   ]
  },
  {
   "cell_type": "markdown",
   "id": "e511cbcb",
   "metadata": {},
   "source": [
    "<b>Define the formula for the glm().</b>\n",
    "\n",
    "The GLM formula for the model takes the form of a logistic function in this general form:<br><br>\n",
    "$logit(p) = \\beta_0 + \\beta_1X_1 + \\beta_2X_2 + ... + \\beta_nX_n$.\n",
    "\n",
    "* $logit(p)$: The log-odds of the probability of the event occurring. \n",
    "* $\\beta_0$: The y-intercept term. \n",
    "* $\\beta_1, \\beta_2, ...,\\beta_n$: The coefficients associated with each predictor variable $X_1, X_2, ..., X_n$. "
   ]
  },
  {
   "cell_type": "markdown",
   "id": "a46501f9",
   "metadata": {},
   "source": [
    "<b>Run the model.</b>\n",
    "\n",
    "I ran into numerous multicollinearity issues when trying to run the model, so we will check the VIFs and drop variables with high VIFs before modeling. "
   ]
  },
  {
   "cell_type": "code",
   "execution_count": 448,
   "id": "3a8436f3",
   "metadata": {},
   "outputs": [
    {
     "name": "stderr",
     "output_type": "stream",
     "text": [
      "C:\\Users\\jdh10\\anaconda3\\Lib\\site-packages\\statsmodels\\regression\\linear_model.py:1782: RuntimeWarning: divide by zero encountered in scalar divide\n",
      "  return 1 - self.ssr/self.centered_tss\n",
      "C:\\Users\\jdh10\\anaconda3\\Lib\\site-packages\\statsmodels\\stats\\outliers_influence.py:198: RuntimeWarning: divide by zero encountered in scalar divide\n",
      "  vif = 1. / (1. - r_squared_i)\n"
     ]
    }
   ],
   "source": [
    "# Function to drop variables with high VIFs \n",
    "def drop_high_vif_variables(data_frame, threshold=5):\n",
    "    features = data_frame.columns\n",
    "    vif_data = pd.DataFrame()\n",
    "    vif_data[\"Variable\"] = features\n",
    "    vif_data[\"VIF\"] = [variance_inflation_factor(data_frame.values, i) for i in range(data_frame.shape[1])]\n",
    "    high_vif_variables = vif_data[vif_data[\"VIF\"] > threshold][\"Variable\"].values\n",
    "    data_frame_dropped = data_frame.drop(high_vif_variables, axis=1)\n",
    "    return data_frame_dropped\n",
    "\n",
    "# Drop variables with high VIFs from the dataframe\n",
    "df = drop_high_vif_variables(df)"
   ]
  },
  {
   "cell_type": "code",
   "execution_count": 449,
   "id": "c1f21f89",
   "metadata": {
    "scrolled": true
   },
   "outputs": [
    {
     "data": {
      "text/html": [
       "<div>\n",
       "<style scoped>\n",
       "    .dataframe tbody tr th:only-of-type {\n",
       "        vertical-align: middle;\n",
       "    }\n",
       "\n",
       "    .dataframe tbody tr th {\n",
       "        vertical-align: top;\n",
       "    }\n",
       "\n",
       "    .dataframe thead th {\n",
       "        text-align: right;\n",
       "    }\n",
       "</style>\n",
       "<table border=\"1\" class=\"dataframe\">\n",
       "  <thead>\n",
       "    <tr style=\"text-align: right;\">\n",
       "      <th></th>\n",
       "      <th>owns_car</th>\n",
       "      <th>owns_realty</th>\n",
       "      <th>income</th>\n",
       "      <th>age_in_days</th>\n",
       "      <th>days_employed</th>\n",
       "      <th>has_mobile_phone</th>\n",
       "      <th>has_work_phone</th>\n",
       "      <th>has_phone</th>\n",
       "      <th>has_email</th>\n",
       "      <th>status</th>\n",
       "    </tr>\n",
       "  </thead>\n",
       "  <tbody>\n",
       "  </tbody>\n",
       "</table>\n",
       "</div>"
      ],
      "text/plain": [
       "Empty DataFrame\n",
       "Columns: [owns_car, owns_realty, income, age_in_days, days_employed, has_mobile_phone, has_work_phone, has_phone, has_email, status]\n",
       "Index: []"
      ]
     },
     "execution_count": 449,
     "metadata": {},
     "output_type": "execute_result"
    }
   ],
   "source": [
    "df.head(0)"
   ]
  },
  {
   "cell_type": "markdown",
   "id": "501a76ec",
   "metadata": {},
   "source": [
    "We find that most of the variables (~80%) have been removed safely due to having very high VIFs. These include anything related to occupation, family size, and gender, to name a few. \n",
    "\n",
    "Let's look at a correlation matrix and see if we can learn anything interesting. "
   ]
  },
  {
   "cell_type": "code",
   "execution_count": 450,
   "id": "270d18f1",
   "metadata": {
    "scrolled": true
   },
   "outputs": [
    {
     "data": {
      "text/html": [
       "<div>\n",
       "<style scoped>\n",
       "    .dataframe tbody tr th:only-of-type {\n",
       "        vertical-align: middle;\n",
       "    }\n",
       "\n",
       "    .dataframe tbody tr th {\n",
       "        vertical-align: top;\n",
       "    }\n",
       "\n",
       "    .dataframe thead th {\n",
       "        text-align: right;\n",
       "    }\n",
       "</style>\n",
       "<table border=\"1\" class=\"dataframe\">\n",
       "  <thead>\n",
       "    <tr style=\"text-align: right;\">\n",
       "      <th></th>\n",
       "      <th>owns_car</th>\n",
       "      <th>owns_realty</th>\n",
       "      <th>income</th>\n",
       "      <th>age_in_days</th>\n",
       "      <th>days_employed</th>\n",
       "      <th>has_mobile_phone</th>\n",
       "      <th>has_work_phone</th>\n",
       "      <th>has_phone</th>\n",
       "      <th>has_email</th>\n",
       "      <th>status</th>\n",
       "    </tr>\n",
       "  </thead>\n",
       "  <tbody>\n",
       "    <tr>\n",
       "      <th>owns_car</th>\n",
       "      <td>1.000000</td>\n",
       "      <td>-0.014365</td>\n",
       "      <td>0.219793</td>\n",
       "      <td>-0.151526</td>\n",
       "      <td>-0.056990</td>\n",
       "      <td>NaN</td>\n",
       "      <td>0.020158</td>\n",
       "      <td>-0.017210</td>\n",
       "      <td>0.021079</td>\n",
       "      <td>0.005491</td>\n",
       "    </tr>\n",
       "    <tr>\n",
       "      <th>owns_realty</th>\n",
       "      <td>-0.014365</td>\n",
       "      <td>1.000000</td>\n",
       "      <td>0.043211</td>\n",
       "      <td>0.132943</td>\n",
       "      <td>0.010331</td>\n",
       "      <td>NaN</td>\n",
       "      <td>-0.219194</td>\n",
       "      <td>-0.072748</td>\n",
       "      <td>0.055523</td>\n",
       "      <td>-0.010532</td>\n",
       "    </tr>\n",
       "    <tr>\n",
       "      <th>income</th>\n",
       "      <td>0.219793</td>\n",
       "      <td>0.043211</td>\n",
       "      <td>1.000000</td>\n",
       "      <td>-0.066397</td>\n",
       "      <td>0.010613</td>\n",
       "      <td>NaN</td>\n",
       "      <td>-0.031761</td>\n",
       "      <td>0.017546</td>\n",
       "      <td>0.093420</td>\n",
       "      <td>-0.009696</td>\n",
       "    </tr>\n",
       "    <tr>\n",
       "      <th>age_in_days</th>\n",
       "      <td>-0.151526</td>\n",
       "      <td>0.132943</td>\n",
       "      <td>-0.066397</td>\n",
       "      <td>1.000000</td>\n",
       "      <td>0.237794</td>\n",
       "      <td>NaN</td>\n",
       "      <td>-0.180922</td>\n",
       "      <td>0.030627</td>\n",
       "      <td>-0.105493</td>\n",
       "      <td>-0.004866</td>\n",
       "    </tr>\n",
       "    <tr>\n",
       "      <th>days_employed</th>\n",
       "      <td>-0.056990</td>\n",
       "      <td>0.010331</td>\n",
       "      <td>0.010613</td>\n",
       "      <td>0.237794</td>\n",
       "      <td>1.000000</td>\n",
       "      <td>NaN</td>\n",
       "      <td>0.008204</td>\n",
       "      <td>0.045896</td>\n",
       "      <td>-0.041877</td>\n",
       "      <td>0.018518</td>\n",
       "    </tr>\n",
       "    <tr>\n",
       "      <th>has_mobile_phone</th>\n",
       "      <td>NaN</td>\n",
       "      <td>NaN</td>\n",
       "      <td>NaN</td>\n",
       "      <td>NaN</td>\n",
       "      <td>NaN</td>\n",
       "      <td>NaN</td>\n",
       "      <td>NaN</td>\n",
       "      <td>NaN</td>\n",
       "      <td>NaN</td>\n",
       "      <td>NaN</td>\n",
       "    </tr>\n",
       "    <tr>\n",
       "      <th>has_work_phone</th>\n",
       "      <td>0.020158</td>\n",
       "      <td>-0.219194</td>\n",
       "      <td>-0.031761</td>\n",
       "      <td>-0.180922</td>\n",
       "      <td>0.008204</td>\n",
       "      <td>NaN</td>\n",
       "      <td>1.000000</td>\n",
       "      <td>0.303945</td>\n",
       "      <td>-0.031652</td>\n",
       "      <td>0.011358</td>\n",
       "    </tr>\n",
       "    <tr>\n",
       "      <th>has_phone</th>\n",
       "      <td>-0.017210</td>\n",
       "      <td>-0.072748</td>\n",
       "      <td>0.017546</td>\n",
       "      <td>0.030627</td>\n",
       "      <td>0.045896</td>\n",
       "      <td>NaN</td>\n",
       "      <td>0.303945</td>\n",
       "      <td>1.000000</td>\n",
       "      <td>0.014730</td>\n",
       "      <td>0.000563</td>\n",
       "    </tr>\n",
       "    <tr>\n",
       "      <th>has_email</th>\n",
       "      <td>0.021079</td>\n",
       "      <td>0.055523</td>\n",
       "      <td>0.093420</td>\n",
       "      <td>-0.105493</td>\n",
       "      <td>-0.041877</td>\n",
       "      <td>NaN</td>\n",
       "      <td>-0.031652</td>\n",
       "      <td>0.014730</td>\n",
       "      <td>1.000000</td>\n",
       "      <td>-0.009844</td>\n",
       "    </tr>\n",
       "    <tr>\n",
       "      <th>status</th>\n",
       "      <td>0.005491</td>\n",
       "      <td>-0.010532</td>\n",
       "      <td>-0.009696</td>\n",
       "      <td>-0.004866</td>\n",
       "      <td>0.018518</td>\n",
       "      <td>NaN</td>\n",
       "      <td>0.011358</td>\n",
       "      <td>0.000563</td>\n",
       "      <td>-0.009844</td>\n",
       "      <td>1.000000</td>\n",
       "    </tr>\n",
       "  </tbody>\n",
       "</table>\n",
       "</div>"
      ],
      "text/plain": [
       "                  owns_car  owns_realty    income  age_in_days  days_employed  \\\n",
       "owns_car          1.000000    -0.014365  0.219793    -0.151526      -0.056990   \n",
       "owns_realty      -0.014365     1.000000  0.043211     0.132943       0.010331   \n",
       "income            0.219793     0.043211  1.000000    -0.066397       0.010613   \n",
       "age_in_days      -0.151526     0.132943 -0.066397     1.000000       0.237794   \n",
       "days_employed    -0.056990     0.010331  0.010613     0.237794       1.000000   \n",
       "has_mobile_phone       NaN          NaN       NaN          NaN            NaN   \n",
       "has_work_phone    0.020158    -0.219194 -0.031761    -0.180922       0.008204   \n",
       "has_phone        -0.017210    -0.072748  0.017546     0.030627       0.045896   \n",
       "has_email         0.021079     0.055523  0.093420    -0.105493      -0.041877   \n",
       "status            0.005491    -0.010532 -0.009696    -0.004866       0.018518   \n",
       "\n",
       "                  has_mobile_phone  has_work_phone  has_phone  has_email  \\\n",
       "owns_car                       NaN        0.020158  -0.017210   0.021079   \n",
       "owns_realty                    NaN       -0.219194  -0.072748   0.055523   \n",
       "income                         NaN       -0.031761   0.017546   0.093420   \n",
       "age_in_days                    NaN       -0.180922   0.030627  -0.105493   \n",
       "days_employed                  NaN        0.008204   0.045896  -0.041877   \n",
       "has_mobile_phone               NaN             NaN        NaN        NaN   \n",
       "has_work_phone                 NaN        1.000000   0.303945  -0.031652   \n",
       "has_phone                      NaN        0.303945   1.000000   0.014730   \n",
       "has_email                      NaN       -0.031652   0.014730   1.000000   \n",
       "status                         NaN        0.011358   0.000563  -0.009844   \n",
       "\n",
       "                    status  \n",
       "owns_car          0.005491  \n",
       "owns_realty      -0.010532  \n",
       "income           -0.009696  \n",
       "age_in_days      -0.004866  \n",
       "days_employed     0.018518  \n",
       "has_mobile_phone       NaN  \n",
       "has_work_phone    0.011358  \n",
       "has_phone         0.000563  \n",
       "has_email        -0.009844  \n",
       "status            1.000000  "
      ]
     },
     "execution_count": 450,
     "metadata": {},
     "output_type": "execute_result"
    }
   ],
   "source": [
    "# View correlation matrix\n",
    "df.corr()"
   ]
  },
  {
   "cell_type": "markdown",
   "id": "5b266f7e",
   "metadata": {},
   "source": [
    "We see that `has_mobile_phone` is all NaN correlation values, which is suspicious. Let's look at the value counts for this variable. "
   ]
  },
  {
   "cell_type": "code",
   "execution_count": 451,
   "id": "15754992",
   "metadata": {},
   "outputs": [
    {
     "data": {
      "text/plain": [
       "has_mobile_phone\n",
       "1    24672\n",
       "Name: count, dtype: int64"
      ]
     },
     "execution_count": 451,
     "metadata": {},
     "output_type": "execute_result"
    }
   ],
   "source": [
    "df[\"has_mobile_phone\"].value_counts()"
   ]
  },
  {
   "cell_type": "markdown",
   "id": "854aca91",
   "metadata": {},
   "source": [
    "All values for this variable are 1, so it has no predictive power and thus should also be removed. "
   ]
  },
  {
   "cell_type": "code",
   "execution_count": 452,
   "id": "5873be73",
   "metadata": {},
   "outputs": [
    {
     "data": {
      "text/html": [
       "<div>\n",
       "<style scoped>\n",
       "    .dataframe tbody tr th:only-of-type {\n",
       "        vertical-align: middle;\n",
       "    }\n",
       "\n",
       "    .dataframe tbody tr th {\n",
       "        vertical-align: top;\n",
       "    }\n",
       "\n",
       "    .dataframe thead th {\n",
       "        text-align: right;\n",
       "    }\n",
       "</style>\n",
       "<table border=\"1\" class=\"dataframe\">\n",
       "  <thead>\n",
       "    <tr style=\"text-align: right;\">\n",
       "      <th></th>\n",
       "      <th>owns_car</th>\n",
       "      <th>owns_realty</th>\n",
       "      <th>income</th>\n",
       "      <th>age_in_days</th>\n",
       "      <th>days_employed</th>\n",
       "      <th>has_mobile_phone</th>\n",
       "      <th>has_work_phone</th>\n",
       "      <th>has_phone</th>\n",
       "      <th>has_email</th>\n",
       "      <th>status</th>\n",
       "    </tr>\n",
       "  </thead>\n",
       "  <tbody>\n",
       "  </tbody>\n",
       "</table>\n",
       "</div>"
      ],
      "text/plain": [
       "Empty DataFrame\n",
       "Columns: [owns_car, owns_realty, income, age_in_days, days_employed, has_mobile_phone, has_work_phone, has_phone, has_email, status]\n",
       "Index: []"
      ]
     },
     "execution_count": 452,
     "metadata": {},
     "output_type": "execute_result"
    }
   ],
   "source": [
    "df.head(0)"
   ]
  },
  {
   "cell_type": "code",
   "execution_count": 453,
   "id": "2f411fca",
   "metadata": {},
   "outputs": [],
   "source": [
    "# Remove \"has_mobile_phone\"\n",
    "df = df.drop(columns={\"has_mobile_phone\"})\n",
    "df = df.reset_index(drop=True)"
   ]
  },
  {
   "cell_type": "code",
   "execution_count": 454,
   "id": "3e361a1b",
   "metadata": {
    "scrolled": true
   },
   "outputs": [
    {
     "data": {
      "text/html": [
       "<div>\n",
       "<style scoped>\n",
       "    .dataframe tbody tr th:only-of-type {\n",
       "        vertical-align: middle;\n",
       "    }\n",
       "\n",
       "    .dataframe tbody tr th {\n",
       "        vertical-align: top;\n",
       "    }\n",
       "\n",
       "    .dataframe thead th {\n",
       "        text-align: right;\n",
       "    }\n",
       "</style>\n",
       "<table border=\"1\" class=\"dataframe\">\n",
       "  <thead>\n",
       "    <tr style=\"text-align: right;\">\n",
       "      <th></th>\n",
       "      <th>owns_car</th>\n",
       "      <th>owns_realty</th>\n",
       "      <th>income</th>\n",
       "      <th>age_in_days</th>\n",
       "      <th>days_employed</th>\n",
       "      <th>has_work_phone</th>\n",
       "      <th>has_phone</th>\n",
       "      <th>has_email</th>\n",
       "      <th>status</th>\n",
       "    </tr>\n",
       "  </thead>\n",
       "  <tbody>\n",
       "  </tbody>\n",
       "</table>\n",
       "</div>"
      ],
      "text/plain": [
       "Empty DataFrame\n",
       "Columns: [owns_car, owns_realty, income, age_in_days, days_employed, has_work_phone, has_phone, has_email, status]\n",
       "Index: []"
      ]
     },
     "execution_count": 454,
     "metadata": {},
     "output_type": "execute_result"
    }
   ],
   "source": [
    "df.head(0)"
   ]
  },
  {
   "cell_type": "markdown",
   "id": "a9876616",
   "metadata": {},
   "source": [
    "Now, our model equation looks like this: \n",
    "$status = \\beta_0 + \\beta_1 * ownscar + \\beta_2 * ownsrealty + \\beta_3 * income + \\beta_4 * ageindays + \\beta_5 * daysemployed + \\beta_6 * hasworkphone + \\beta_7 * hasphone + \\beta_8 * hasemail$\n",
    "\n",
    "Additionally, because we have modified the dataframe by removing variables with high VIFs, we need to redo the train-test split. "
   ]
  },
  {
   "cell_type": "code",
   "execution_count": 455,
   "id": "01cca127",
   "metadata": {
    "scrolled": false
   },
   "outputs": [
    {
     "name": "stdout",
     "output_type": "stream",
     "text": [
      "Shape of x_train: (17270, 8), Shape of y_train: (17270,)\n",
      "Shape of x_test: (7402, 8), Shape of y_test: (7402,)\n",
      "\n",
      "Optimization terminated successfully.\n",
      "         Current function value: 0.604352\n",
      "         Iterations 5\n"
     ]
    }
   ],
   "source": [
    "# Redo train-test split with updated dataframe\n",
    "# Define features and target\n",
    "x = df.drop(\"status\", axis=1)\n",
    "y = df[\"status\"]\n",
    "x_train, x_test, y_train, y_test = train_test_split(x, y, test_size=0.3, random_state=42)\n",
    "\n",
    "# Show the shapes of training and testing sets\n",
    "print(f\"Shape of x_train: {x_train.shape}, Shape of y_train: {y_train.shape}\")\n",
    "print(f\"Shape of x_test: {x_test.shape}, Shape of y_test: {y_test.shape}\")\n",
    "print()\n",
    "\n",
    "# Train model\n",
    "x_train = sm.add_constant(x_train)\n",
    "model = sm.Logit(y_train, x_train)\n",
    "result = model.fit()\n",
    "\n",
    "# Reset y indices\n",
    "y_train.reset_index(drop=True, inplace=True)\n",
    "y_test.reset_index(drop=True, inplace=True)\n",
    "\n",
    "# Add constant to x_test for prediction\n",
    "x_test = sm.add_constant(x_test)\n",
    "\n",
    "# Compare actual vs. predicted values\n",
    "predicted_status = result.predict(x_test)\n",
    "threshold = 0.5\n",
    "predicted_status = (predicted_status > threshold).astype(int)"
   ]
  },
  {
   "cell_type": "markdown",
   "id": "a007b569",
   "metadata": {},
   "source": [
    "<b>Interpret the results, referring to the p-values.</b>"
   ]
  },
  {
   "cell_type": "code",
   "execution_count": 456,
   "id": "65d8d628",
   "metadata": {},
   "outputs": [
    {
     "name": "stdout",
     "output_type": "stream",
     "text": [
      "                           Logit Regression Results                           \n",
      "==============================================================================\n",
      "Dep. Variable:                 status   No. Observations:                17270\n",
      "Model:                          Logit   Df Residuals:                    17261\n",
      "Method:                           MLE   Df Model:                            8\n",
      "Date:                Wed, 06 Mar 2024   Pseudo R-squ.:               0.0008420\n",
      "Time:                        14:55:51   Log-Likelihood:                -10437.\n",
      "converged:                       True   LL-Null:                       -10446.\n",
      "Covariance Type:            nonrobust   LLR p-value:                   0.02451\n",
      "==================================================================================\n",
      "                     coef    std err          z      P>|z|      [0.025      0.975]\n",
      "----------------------------------------------------------------------------------\n",
      "const              0.7813      0.081      9.703      0.000       0.623       0.939\n",
      "owns_car           0.0662      0.036      1.850      0.064      -0.004       0.136\n",
      "owns_realty       -0.0203      0.037     -0.556      0.578      -0.092       0.051\n",
      "income            -0.4952      0.257     -1.928      0.054      -0.998       0.008\n",
      "age_in_days       -0.0735      0.076     -0.968      0.333      -0.222       0.075\n",
      "days_employed      0.4326      0.162      2.672      0.008       0.115       0.750\n",
      "has_work_phone     0.0557      0.044      1.264      0.206      -0.031       0.142\n",
      "has_phone         -0.0389      0.039     -1.006      0.315      -0.115       0.037\n",
      "has_email         -0.0418      0.058     -0.716      0.474      -0.156       0.073\n",
      "==================================================================================\n"
     ]
    }
   ],
   "source": [
    "# Display summary\n",
    "print(result.summary())"
   ]
  },
  {
   "cell_type": "markdown",
   "id": "4b03e252",
   "metadata": {},
   "source": [
    "We see that whether someone owns a car, how long they've been employed, and whether they have a work phone are all positively correlated with their application being accepted, whereas all other variables in the model negatively affect one's chances. \n",
    "\n",
    "However, it should also be noted that every variable except `days_employed` has a $P>|z|$ value greater than $\\alpha = 0.05$, suggesting that they might not be statistically significant. "
   ]
  },
  {
   "cell_type": "markdown",
   "id": "efa5605d",
   "metadata": {},
   "source": [
    "### Task 4\n",
    "Evaluate the Model Performance: \n",
    "* Compare the predicted versus actual values.\n",
    "* Search for any predictions that differ significantly from the actual values. "
   ]
  },
  {
   "cell_type": "code",
   "execution_count": 457,
   "id": "45de0bc3",
   "metadata": {
    "scrolled": true
   },
   "outputs": [
    {
     "name": "stdout",
     "output_type": "stream",
     "text": [
      "Total number of predictions: 7402\n",
      "Number of correct predictions: 5252\n",
      "Percentage of correct predictions: 71.0%\n"
     ]
    }
   ],
   "source": [
    "# Compare actual values to predictions\n",
    "actual_status = y_test\n",
    "predicted_status.reset_index(drop=True, inplace=True)\n",
    "actual_vs_predicted = pd.DataFrame({\n",
    "    \"actual_status\": actual_status, \n",
    "    \"predicted_status\": predicted_status\n",
    "})\n",
    "\n",
    "num_wrong_predictions = len(actual_vs_predicted[actual_vs_predicted[\"actual_status\"] != actual_vs_predicted[\"predicted_status\"]])\n",
    "total_predictions = len(actual_vs_predicted)\n",
    "percentage_correct = round((total_predictions - num_wrong_predictions) / total_predictions, 2) * 100\n",
    "\n",
    "print(f\"Total number of predictions: {total_predictions}\")\n",
    "print(f\"Number of correct predictions: {total_predictions - num_wrong_predictions}\")\n",
    "print(f\"Percentage of correct predictions: {percentage_correct}%\")"
   ]
  },
  {
   "cell_type": "markdown",
   "id": "ebf77887",
   "metadata": {},
   "source": [
    "We achieve a precision value of 71% with this model, meaning that out of all predictions made, 71% were correct. "
   ]
  },
  {
   "cell_type": "markdown",
   "id": "3e5814c9",
   "metadata": {},
   "source": [
    "### Task 5\n",
    "Validate the Model: \n",
    "* Produce a Gain and Lift chart and use it to describe the performance of the model.\n",
    "* Measure the Variation Inflation Factor (VIF) to test for multicollinearity. If changes are necessary to the model based in VIF, state and implement them.\n",
    "* Has the formula, as defined in the previous section, changed? Why or why not?\n",
    "* If changes to the model occurred, repeat the validation steps on the new model."
   ]
  },
  {
   "cell_type": "markdown",
   "id": "4bb0467b",
   "metadata": {},
   "source": [
    "<b>Produce a Gain and Lift chart and use it to describe the performance of the model.</b> "
   ]
  },
  {
   "cell_type": "code",
   "execution_count": 458,
   "id": "2ea55aa1",
   "metadata": {},
   "outputs": [],
   "source": [
    "# Get predicted probabilities\n",
    "predicted_probs = result.predict(x_test)\n",
    "indices = np.argsort(predicted_probs)\n",
    "\n",
    "# Sort actual values and predicted probabilities\n",
    "y_test_sorted = y_test.iloc[indices]\n",
    "predicted_probs_sorted = predicted_probs.iloc[indices]"
   ]
  },
  {
   "cell_type": "code",
   "execution_count": 459,
   "id": "ea12fc42",
   "metadata": {},
   "outputs": [
    {
     "data": {
      "image/png": "[encoded data removed]",
      "text/plain": [
       "<Figure size 640x480 with 1 Axes>"
      ]
     },
     "metadata": {},
     "output_type": "display_data"
    }
   ],
   "source": [
    "# Calculate cumulative gain \n",
    "cumulative_gain = np.cumsum(y_test_sorted) / np.sum(y_test_sorted)\n",
    "\n",
    "# Plot gain chart\n",
    "plt.plot(np.arange(1, len(y_test_sorted) + 1) / len(y_test_sorted), cumulative_gain, label=\"Gain Chart\")\n",
    "plt.title(\"Cumulative Gain Chart\")\n",
    "plt.xlabel(\"Proportion of Samples\")\n",
    "plt.ylabel(\"Cumulative Gain\")\n",
    "plt.show()"
   ]
  },
  {
   "cell_type": "markdown",
   "id": "2eacd857",
   "metadata": {},
   "source": [
    "The gain chart shows a perfect linear trend with what appears to be a slope of 1, indicating that the model is no better than random selection. "
   ]
  },
  {
   "cell_type": "code",
   "execution_count": 460,
   "id": "c335b6f3",
   "metadata": {},
   "outputs": [
    {
     "data": {
      "image/png": "[encoded data removed]",
      "text/plain": [
       "<Figure size 640x480 with 1 Axes>"
      ]
     },
     "metadata": {},
     "output_type": "display_data"
    }
   ],
   "source": [
    "# Calculate lift\n",
    "lift = cumulative_gain / (np.arange(len(y_test_sorted)) / len(y_test_sorted))\n",
    "\n",
    "# Plot lift chart \n",
    "plt.plot(np.arange(1, len(y_test_sorted) + 1) / len(y_test_sorted), lift, label=\"Lift Chart\")\n",
    "plt.title(\"Lift Chart\")\n",
    "plt.xlabel(\"Proportion of Samples\")\n",
    "plt.ylabel(\"Lift\")\n",
    "plt.show()"
   ]
  },
  {
   "cell_type": "markdown",
   "id": "b7da5bf4",
   "metadata": {},
   "source": [
    "Just like with the cumulative gain chart, the lift chart shows that the model is no better than random selection with its convergence to 1. \n",
    "\n",
    "Both of these charts show that model improvement is necessary for elevating its predictive power above random selection. "
   ]
  },
  {
   "cell_type": "markdown",
   "id": "39bee610",
   "metadata": {},
   "source": [
    "<b>Measure the Variation Inflation Factor (VIF) to test for multicollinearity. If changes are necessary to the model based in VIF, state and implement them.</b>\n",
    "\n",
    "This was already done earlier, and about 80% of the predictor variables were removed, leading to a much more concise model."
   ]
  },
  {
   "cell_type": "markdown",
   "id": "2d77ee8a",
   "metadata": {},
   "source": [
    "<b>Has the formula, as defined in the previous section, changed? Why or why not?</b>\n",
    "\n",
    "The formula was changed drastically by removing any predictor variables with a VIF above 10, leading to its shortening from 52 predictors down to 9. This is the current formula: \n",
    "\n",
    "$status = \\beta_0 + \\beta_1 * ownscar + \\beta_2 * ownsrealty + \\beta_3 * income + \\beta_4 * ageindays + \\beta_5 * daysemployed + \\beta_6 * hasworkphone + \\beta_7 * hasphone + \\beta_8 * hasemail$\n",
    "\n",
    "And these are the predictor variables involved: "
   ]
  },
  {
   "cell_type": "code",
   "execution_count": 464,
   "id": "1b26c74d",
   "metadata": {},
   "outputs": [
    {
     "data": {
      "text/html": [
       "<div>\n",
       "<style scoped>\n",
       "    .dataframe tbody tr th:only-of-type {\n",
       "        vertical-align: middle;\n",
       "    }\n",
       "\n",
       "    .dataframe tbody tr th {\n",
       "        vertical-align: top;\n",
       "    }\n",
       "\n",
       "    .dataframe thead th {\n",
       "        text-align: right;\n",
       "    }\n",
       "</style>\n",
       "<table border=\"1\" class=\"dataframe\">\n",
       "  <thead>\n",
       "    <tr style=\"text-align: right;\">\n",
       "      <th></th>\n",
       "      <th>owns_car</th>\n",
       "      <th>owns_realty</th>\n",
       "      <th>income</th>\n",
       "      <th>age_in_days</th>\n",
       "      <th>days_employed</th>\n",
       "      <th>has_work_phone</th>\n",
       "      <th>has_phone</th>\n",
       "      <th>has_email</th>\n",
       "    </tr>\n",
       "  </thead>\n",
       "  <tbody>\n",
       "  </tbody>\n",
       "</table>\n",
       "</div>"
      ],
      "text/plain": [
       "Empty DataFrame\n",
       "Columns: [owns_car, owns_realty, income, age_in_days, days_employed, has_work_phone, has_phone, has_email]\n",
       "Index: []"
      ]
     },
     "execution_count": 464,
     "metadata": {},
     "output_type": "execute_result"
    }
   ],
   "source": [
    "df.drop(columns={\"status\"}).head(0)"
   ]
  },
  {
   "cell_type": "markdown",
   "id": "61ee3c22",
   "metadata": {},
   "source": [
    "<b>If changes to the model occurred, repeat the validation steps on the new model.</b>\n",
    "\n",
    "The model was changed before validation steps were applied, so no new validation is currently necessary. "
   ]
  },
  {
   "cell_type": "markdown",
   "id": "225b0489",
   "metadata": {},
   "source": [
    "### Task 6\n",
    "* Demonstrate a few examples of predictions your model can make.\n",
    "* Validate the predictions by calculating the misclassification error.\n",
    "* Interpret the results."
   ]
  },
  {
   "cell_type": "markdown",
   "id": "8925f866",
   "metadata": {},
   "source": [
    "<b>Demonstrate a few examples of predictions your model can make.</b>"
   ]
  },
  {
   "cell_type": "code",
   "execution_count": 461,
   "id": "12b3e2b0",
   "metadata": {},
   "outputs": [
    {
     "data": {
      "text/html": [
       "<div>\n",
       "<style scoped>\n",
       "    .dataframe tbody tr th:only-of-type {\n",
       "        vertical-align: middle;\n",
       "    }\n",
       "\n",
       "    .dataframe tbody tr th {\n",
       "        vertical-align: top;\n",
       "    }\n",
       "\n",
       "    .dataframe thead th {\n",
       "        text-align: right;\n",
       "    }\n",
       "</style>\n",
       "<table border=\"1\" class=\"dataframe\">\n",
       "  <thead>\n",
       "    <tr style=\"text-align: right;\">\n",
       "      <th></th>\n",
       "      <th>owns_car</th>\n",
       "      <th>owns_realty</th>\n",
       "      <th>income</th>\n",
       "      <th>age_in_days</th>\n",
       "      <th>days_employed</th>\n",
       "      <th>has_work_phone</th>\n",
       "      <th>has_phone</th>\n",
       "      <th>has_email</th>\n",
       "      <th>status</th>\n",
       "      <th>prob_of_approval</th>\n",
       "      <th>predicted_status</th>\n",
       "    </tr>\n",
       "  </thead>\n",
       "  <tbody>\n",
       "    <tr>\n",
       "      <th>65982</th>\n",
       "      <td>0</td>\n",
       "      <td>1</td>\n",
       "      <td>0.085527</td>\n",
       "      <td>0.094413</td>\n",
       "      <td>0.434060</td>\n",
       "      <td>0</td>\n",
       "      <td>0</td>\n",
       "      <td>0</td>\n",
       "      <td>1</td>\n",
       "      <td>0.486023</td>\n",
       "      <td>0</td>\n",
       "    </tr>\n",
       "    <tr>\n",
       "      <th>93244</th>\n",
       "      <td>0</td>\n",
       "      <td>0</td>\n",
       "      <td>0.044386</td>\n",
       "      <td>0.037371</td>\n",
       "      <td>0.024281</td>\n",
       "      <td>0</td>\n",
       "      <td>0</td>\n",
       "      <td>0</td>\n",
       "      <td>0</td>\n",
       "      <td>0.494703</td>\n",
       "      <td>0</td>\n",
       "    </tr>\n",
       "    <tr>\n",
       "      <th>33080</th>\n",
       "      <td>1</td>\n",
       "      <td>0</td>\n",
       "      <td>0.152498</td>\n",
       "      <td>0.202990</td>\n",
       "      <td>0.418580</td>\n",
       "      <td>1</td>\n",
       "      <td>1</td>\n",
       "      <td>0</td>\n",
       "      <td>0</td>\n",
       "      <td>0.756796</td>\n",
       "      <td>1</td>\n",
       "    </tr>\n",
       "    <tr>\n",
       "      <th>15416</th>\n",
       "      <td>0</td>\n",
       "      <td>1</td>\n",
       "      <td>0.012316</td>\n",
       "      <td>0.218161</td>\n",
       "      <td>0.160565</td>\n",
       "      <td>0</td>\n",
       "      <td>0</td>\n",
       "      <td>1</td>\n",
       "      <td>0</td>\n",
       "      <td>0.476843</td>\n",
       "      <td>0</td>\n",
       "    </tr>\n",
       "    <tr>\n",
       "      <th>83596</th>\n",
       "      <td>1</td>\n",
       "      <td>0</td>\n",
       "      <td>0.082312</td>\n",
       "      <td>0.018620</td>\n",
       "      <td>0.042294</td>\n",
       "      <td>0</td>\n",
       "      <td>1</td>\n",
       "      <td>1</td>\n",
       "      <td>0</td>\n",
       "      <td>0.686564</td>\n",
       "      <td>1</td>\n",
       "    </tr>\n",
       "  </tbody>\n",
       "</table>\n",
       "</div>"
      ],
      "text/plain": [
       "       owns_car  owns_realty    income  age_in_days  days_employed  \\\n",
       "65982         0            1  0.085527     0.094413       0.434060   \n",
       "93244         0            0  0.044386     0.037371       0.024281   \n",
       "33080         1            0  0.152498     0.202990       0.418580   \n",
       "15416         0            1  0.012316     0.218161       0.160565   \n",
       "83596         1            0  0.082312     0.018620       0.042294   \n",
       "\n",
       "       has_work_phone  has_phone  has_email  status  prob_of_approval  \\\n",
       "65982               0          0          0       1          0.486023   \n",
       "93244               0          0          0       0          0.494703   \n",
       "33080               1          1          0       0          0.756796   \n",
       "15416               0          0          1       0          0.476843   \n",
       "83596               0          1          1       0          0.686564   \n",
       "\n",
       "       predicted_status  \n",
       "65982                 0  \n",
       "93244                 0  \n",
       "33080                 1  \n",
       "15416                 0  \n",
       "83596                 1  "
      ]
     },
     "execution_count": 461,
     "metadata": {},
     "output_type": "execute_result"
    }
   ],
   "source": [
    "# Generate synthetic data for demonstration\n",
    "np.random.seed(42)\n",
    "n = 100000\n",
    "\n",
    "synthetic_data = {\n",
    "    \"owns_car\": np.random.randint(2, size=n), \n",
    "    \"owns_realty\": np.random.randint(2, size=n), \n",
    "    \"income\": np.abs(np.random.normal(0, 1, size=n)), \n",
    "    \"age_in_days\": np.abs(np.random.normal(0, 1, size=n)), \n",
    "    \"days_employed\": np.abs(np.random.normal(0, 1, size=n)), \n",
    "    \"has_work_phone\": np.random.randint(2, size=n), \n",
    "    \"has_phone\": np.random.randint(2, size=n), \n",
    "    \"has_email\": np.random.randint(2, size=n), \n",
    "    \"status\": np.random.randint(2, size=n)\n",
    "}\n",
    "\n",
    "demo_df = pd.DataFrame(synthetic_data)\n",
    "\n",
    "# Normalize relevant variables\n",
    "vars_to_normalize = [\"income\", \"age_in_days\", \"days_employed\"]\n",
    "demo_df[vars_to_normalize] = scaler.fit_transform(demo_df[vars_to_normalize])\n",
    "\n",
    "# Make predictions\n",
    "x = demo_df.drop(columns={\"status\"})\n",
    "demo_df[\"predicted_status\"] = result.predict(demo_df)\n",
    "\n",
    "# Convert predicted column to binary values\n",
    "demo_df.rename(columns={\"predicted_status\": \"prob_of_approval\"}, inplace=True)\n",
    "demo_df[\"predicted_status\"] = round(demo_df[\"prob_of_approval\"])\n",
    "demo_df[\"predicted_status\"] = demo_df[\"predicted_status\"].astype(int)\n",
    "\n",
    "demo_df.sample(5)"
   ]
  },
  {
   "cell_type": "markdown",
   "id": "66242e84",
   "metadata": {},
   "source": [
    "<b>Validate the predictions by calculating the misclassification error.</b>"
   ]
  },
  {
   "cell_type": "code",
   "execution_count": 462,
   "id": "56a64c11",
   "metadata": {},
   "outputs": [
    {
     "name": "stdout",
     "output_type": "stream",
     "text": [
      "Misclassification Error: 52.0%\n"
     ]
    }
   ],
   "source": [
    "# Calculate misclassification error\n",
    "total_predictions = len(demo_df)\n",
    "incorrect_predictions = len(demo_df[demo_df[\"predicted_status\"] != demo_df[\"status\"]])\n",
    "misc_proportion = round(incorrect_predictions / total_predictions, 2)\n",
    "misc_percent = misc_proportion * 100\n",
    "print(f\"Misclassification Error: {misc_percent}%\")"
   ]
  },
  {
   "cell_type": "markdown",
   "id": "df10f0b3",
   "metadata": {},
   "source": [
    "We see a misclassification error of about 50%, which is about what we would see by guessing randomly. Therefore, the model unfortunately turns out to be no better than random guessing. "
   ]
  },
  {
   "cell_type": "markdown",
   "id": "68958fab",
   "metadata": {},
   "source": [
    "### Task 7\n",
    "State a few suggestions for improving the model."
   ]
  },
  {
   "cell_type": "markdown",
   "id": "bc5a15fa",
   "metadata": {},
   "source": [
    "* Training the model on more data could have substantially improved it, but 95% of the total data was lost during the merging of the two CSV files, meaning that the model is nowhere near as accurate as it could be. More data would have surely made its predictions more accurate. \n",
    "* More care could have been taken to avoid overfitting the model to the training data. This problem is especially likely with such a small training set like I ended up with. \n",
    "* I could have planned out the data prep and cleaning process more methodically to minimize data loss, which would have then led to a more accurate model, as mentioned earlier. "
   ]
  },
  {
   "cell_type": "markdown",
   "id": "1cb57943",
   "metadata": {},
   "source": [
    "### References\n",
    "Tim. (2022, February 28). Gain and Lift Chart: Definition, Example - Statistics How to. Statistics How To. https://www.statisticshowto.com/lift-chart-gain/<br>\n",
    "ChatGPT. (n.d.). https://chat.openai.com/<br>\n",
    "Bing AI - Bing. (n.d.-a). Bing. https://www.bing.com/search?toncp=0&FORM=hpcodx&q=Bing+AI&showconv=1"
   ]
  }
 ],
 "metadata": {
  "kernelspec": {
   "display_name": "Python 3 (ipykernel)",
   "language": "python",
   "name": "python3"
  },
  "language_info": {
   "codemirror_mode": {
    "name": "ipython",
    "version": 3
   },
   "file_extension": ".py",
   "mimetype": "text/x-python",
   "name": "python",
   "nbconvert_exporter": "python",
   "pygments_lexer": "ipython3",
   "version": "3.11.5"
  }
 },
 "nbformat": 4,
 "nbformat_minor": 5
}
